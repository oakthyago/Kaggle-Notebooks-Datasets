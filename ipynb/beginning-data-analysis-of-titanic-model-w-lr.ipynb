{
 "cells": [
  {
   "cell_type": "markdown",
   "id": "53bcd8e7",
   "metadata": {
    "papermill": {
     "duration": 0.074111,
     "end_time": "2022-02-08T02:54:02.868914",
     "exception": false,
     "start_time": "2022-02-08T02:54:02.794803",
     "status": "completed"
    },
    "tags": []
   },
   "source": [
    "# Titanic dataset a analysis"
   ]
  },
  {
   "cell_type": "markdown",
   "id": "a2bab763",
   "metadata": {
    "papermill": {
     "duration": 0.074838,
     "end_time": "2022-02-08T02:54:03.016901",
     "exception": false,
     "start_time": "2022-02-08T02:54:02.942063",
     "status": "completed"
    },
    "tags": []
   },
   "source": [
    "## Beginning data analysis titanic & model with Logistic Regression"
   ]
  },
  {
   "cell_type": "markdown",
   "id": "0d664629",
   "metadata": {
    "execution": {
     "iopub.execute_input": "2022-02-02T20:50:34.527866Z",
     "iopub.status.busy": "2022-02-02T20:50:34.526857Z",
     "iopub.status.idle": "2022-02-02T20:50:34.5511Z",
     "shell.execute_reply": "2022-02-02T20:50:34.550259Z",
     "shell.execute_reply.started": "2022-02-02T20:50:34.527712Z"
    },
    "papermill": {
     "duration": 0.07088,
     "end_time": "2022-02-08T02:54:03.163187",
     "exception": false,
     "start_time": "2022-02-08T02:54:03.092307",
     "status": "completed"
    },
    "tags": []
   },
   "source": [
    "## Attention\n",
    "\n",
    "\n",
    "Hello, Here you find some data analysis of the titanic dataset using seaborn and pandas to give a better look in the passegers informations. \n",
    "\n",
    "- If you like this notebook pelase  arrow up and any question use the comments I will be glade to improve it.\n",
    "- This notebook is a beginning level you just need to read trow the code to easly understand it.\n",
    "- We see some graphics, make some math to see whats going on, clean the data to use logistic regression model.\n",
    "- Hope you enjoy reading as I enjoyed writring. \n",
    "\n",
    "### It was made to you learn how to clean the data and fit your model with the train dataset. After it you can do by yourself using the train and test datasets. So give it a try of do by your own and let me know if you get it."
   ]
  },
  {
   "cell_type": "markdown",
   "id": "a80e7f6a",
   "metadata": {
    "papermill": {
     "duration": 0.06902,
     "end_time": "2022-02-08T02:54:03.301133",
     "exception": false,
     "start_time": "2022-02-08T02:54:03.232113",
     "status": "completed"
    },
    "tags": []
   },
   "source": [
    "### Introduction\n",
    "On this notebook we will use seaborn to look around the data and get some future helpful insights to get a better score on the titanic predictions. Than we will use a Logistic Regression model from skleran to se how good our model peform. \n",
    "\n",
    "When you don't undestand the code you can look around for some coments about them"
   ]
  },
  {
   "cell_type": "code",
   "execution_count": 1,
   "id": "f130d40e",
   "metadata": {
    "execution": {
     "iopub.execute_input": "2022-02-08T02:54:03.453345Z",
     "iopub.status.busy": "2022-02-08T02:54:03.443798Z",
     "iopub.status.idle": "2022-02-08T02:54:04.658861Z",
     "shell.execute_reply": "2022-02-08T02:54:04.658067Z",
     "shell.execute_reply.started": "2022-02-04T14:54:58.939778Z"
    },
    "papermill": {
     "duration": 1.28903,
     "end_time": "2022-02-08T02:54:04.659113",
     "exception": false,
     "start_time": "2022-02-08T02:54:03.370083",
     "status": "completed"
    },
    "tags": []
   },
   "outputs": [],
   "source": [
    "#some basics imports \n",
    "import pandas as pd\n",
    "import numpy as np\n",
    "import matplotlib.pyplot as plt\n",
    "import seaborn as sns\n",
    "%matplotlib inline\n"
   ]
  },
  {
   "cell_type": "code",
   "execution_count": 2,
   "id": "68b768e9",
   "metadata": {
    "execution": {
     "iopub.execute_input": "2022-02-08T02:54:04.806991Z",
     "iopub.status.busy": "2022-02-08T02:54:04.806295Z",
     "iopub.status.idle": "2022-02-08T02:54:04.829708Z",
     "shell.execute_reply": "2022-02-08T02:54:04.830343Z",
     "shell.execute_reply.started": "2022-02-04T14:54:59.800501Z"
    },
    "papermill": {
     "duration": 0.099844,
     "end_time": "2022-02-08T02:54:04.830558",
     "exception": false,
     "start_time": "2022-02-08T02:54:04.730714",
     "status": "completed"
    },
    "tags": []
   },
   "outputs": [],
   "source": [
    "#reading the training dataset\n",
    "train = pd.read_csv('/kaggle/input/titanic/train.csv')"
   ]
  },
  {
   "cell_type": "code",
   "execution_count": 3,
   "id": "9d2e1029",
   "metadata": {
    "execution": {
     "iopub.execute_input": "2022-02-08T02:54:04.979489Z",
     "iopub.status.busy": "2022-02-08T02:54:04.978665Z",
     "iopub.status.idle": "2022-02-08T02:54:04.998882Z",
     "shell.execute_reply": "2022-02-08T02:54:04.999418Z",
     "shell.execute_reply.started": "2022-02-04T14:54:59.823204Z"
    },
    "papermill": {
     "duration": 0.098324,
     "end_time": "2022-02-08T02:54:04.999610",
     "exception": false,
     "start_time": "2022-02-08T02:54:04.901286",
     "status": "completed"
    },
    "tags": []
   },
   "outputs": [
    {
     "data": {
      "text/html": [
       "<div>\n",
       "<style scoped>\n",
       "    .dataframe tbody tr th:only-of-type {\n",
       "        vertical-align: middle;\n",
       "    }\n",
       "\n",
       "    .dataframe tbody tr th {\n",
       "        vertical-align: top;\n",
       "    }\n",
       "\n",
       "    .dataframe thead th {\n",
       "        text-align: right;\n",
       "    }\n",
       "</style>\n",
       "<table border=\"1\" class=\"dataframe\">\n",
       "  <thead>\n",
       "    <tr style=\"text-align: right;\">\n",
       "      <th></th>\n",
       "      <th>PassengerId</th>\n",
       "      <th>Survived</th>\n",
       "      <th>Pclass</th>\n",
       "      <th>Name</th>\n",
       "      <th>Sex</th>\n",
       "      <th>Age</th>\n",
       "      <th>SibSp</th>\n",
       "      <th>Parch</th>\n",
       "      <th>Ticket</th>\n",
       "      <th>Fare</th>\n",
       "      <th>Cabin</th>\n",
       "      <th>Embarked</th>\n",
       "    </tr>\n",
       "  </thead>\n",
       "  <tbody>\n",
       "    <tr>\n",
       "      <th>0</th>\n",
       "      <td>1</td>\n",
       "      <td>0</td>\n",
       "      <td>3</td>\n",
       "      <td>Braund, Mr. Owen Harris</td>\n",
       "      <td>male</td>\n",
       "      <td>22.0</td>\n",
       "      <td>1</td>\n",
       "      <td>0</td>\n",
       "      <td>A/5 21171</td>\n",
       "      <td>7.2500</td>\n",
       "      <td>NaN</td>\n",
       "      <td>S</td>\n",
       "    </tr>\n",
       "    <tr>\n",
       "      <th>1</th>\n",
       "      <td>2</td>\n",
       "      <td>1</td>\n",
       "      <td>1</td>\n",
       "      <td>Cumings, Mrs. John Bradley (Florence Briggs Th...</td>\n",
       "      <td>female</td>\n",
       "      <td>38.0</td>\n",
       "      <td>1</td>\n",
       "      <td>0</td>\n",
       "      <td>PC 17599</td>\n",
       "      <td>71.2833</td>\n",
       "      <td>C85</td>\n",
       "      <td>C</td>\n",
       "    </tr>\n",
       "    <tr>\n",
       "      <th>2</th>\n",
       "      <td>3</td>\n",
       "      <td>1</td>\n",
       "      <td>3</td>\n",
       "      <td>Heikkinen, Miss. Laina</td>\n",
       "      <td>female</td>\n",
       "      <td>26.0</td>\n",
       "      <td>0</td>\n",
       "      <td>0</td>\n",
       "      <td>STON/O2. 3101282</td>\n",
       "      <td>7.9250</td>\n",
       "      <td>NaN</td>\n",
       "      <td>S</td>\n",
       "    </tr>\n",
       "    <tr>\n",
       "      <th>3</th>\n",
       "      <td>4</td>\n",
       "      <td>1</td>\n",
       "      <td>1</td>\n",
       "      <td>Futrelle, Mrs. Jacques Heath (Lily May Peel)</td>\n",
       "      <td>female</td>\n",
       "      <td>35.0</td>\n",
       "      <td>1</td>\n",
       "      <td>0</td>\n",
       "      <td>113803</td>\n",
       "      <td>53.1000</td>\n",
       "      <td>C123</td>\n",
       "      <td>S</td>\n",
       "    </tr>\n",
       "    <tr>\n",
       "      <th>4</th>\n",
       "      <td>5</td>\n",
       "      <td>0</td>\n",
       "      <td>3</td>\n",
       "      <td>Allen, Mr. William Henry</td>\n",
       "      <td>male</td>\n",
       "      <td>35.0</td>\n",
       "      <td>0</td>\n",
       "      <td>0</td>\n",
       "      <td>373450</td>\n",
       "      <td>8.0500</td>\n",
       "      <td>NaN</td>\n",
       "      <td>S</td>\n",
       "    </tr>\n",
       "  </tbody>\n",
       "</table>\n",
       "</div>"
      ],
      "text/plain": [
       "   PassengerId  Survived  Pclass  \\\n",
       "0            1         0       3   \n",
       "1            2         1       1   \n",
       "2            3         1       3   \n",
       "3            4         1       1   \n",
       "4            5         0       3   \n",
       "\n",
       "                                                Name     Sex   Age  SibSp  \\\n",
       "0                            Braund, Mr. Owen Harris    male  22.0      1   \n",
       "1  Cumings, Mrs. John Bradley (Florence Briggs Th...  female  38.0      1   \n",
       "2                             Heikkinen, Miss. Laina  female  26.0      0   \n",
       "3       Futrelle, Mrs. Jacques Heath (Lily May Peel)  female  35.0      1   \n",
       "4                           Allen, Mr. William Henry    male  35.0      0   \n",
       "\n",
       "   Parch            Ticket     Fare Cabin Embarked  \n",
       "0      0         A/5 21171   7.2500   NaN        S  \n",
       "1      0          PC 17599  71.2833   C85        C  \n",
       "2      0  STON/O2. 3101282   7.9250   NaN        S  \n",
       "3      0            113803  53.1000  C123        S  \n",
       "4      0            373450   8.0500   NaN        S  "
      ]
     },
     "execution_count": 3,
     "metadata": {},
     "output_type": "execute_result"
    }
   ],
   "source": [
    "# looking on the 5 first rows to see what the dataset is about, look the colomns names and what they should have\n",
    "train.head()"
   ]
  },
  {
   "cell_type": "markdown",
   "id": "9c77fddb",
   "metadata": {
    "papermill": {
     "duration": 0.069023,
     "end_time": "2022-02-08T02:54:05.139565",
     "exception": false,
     "start_time": "2022-02-08T02:54:05.070542",
     "status": "completed"
    },
    "tags": []
   },
   "source": [
    "Some columns are hard to guess SibSp  and Parch guive us information if we are traveling with the family. Embarked is where um get in on the titanic. This information will be useful on our model."
   ]
  },
  {
   "cell_type": "code",
   "execution_count": 4,
   "id": "40b33666",
   "metadata": {
    "execution": {
     "iopub.execute_input": "2022-02-08T02:54:05.282305Z",
     "iopub.status.busy": "2022-02-08T02:54:05.281642Z",
     "iopub.status.idle": "2022-02-08T02:54:05.308396Z",
     "shell.execute_reply": "2022-02-08T02:54:05.308922Z",
     "shell.execute_reply.started": "2022-02-04T14:54:59.847961Z"
    },
    "papermill": {
     "duration": 0.099859,
     "end_time": "2022-02-08T02:54:05.309147",
     "exception": false,
     "start_time": "2022-02-08T02:54:05.209288",
     "status": "completed"
    },
    "tags": []
   },
   "outputs": [
    {
     "name": "stdout",
     "output_type": "stream",
     "text": [
      "<class 'pandas.core.frame.DataFrame'>\n",
      "RangeIndex: 891 entries, 0 to 890\n",
      "Data columns (total 12 columns):\n",
      " #   Column       Non-Null Count  Dtype  \n",
      "---  ------       --------------  -----  \n",
      " 0   PassengerId  891 non-null    int64  \n",
      " 1   Survived     891 non-null    int64  \n",
      " 2   Pclass       891 non-null    int64  \n",
      " 3   Name         891 non-null    object \n",
      " 4   Sex          891 non-null    object \n",
      " 5   Age          714 non-null    float64\n",
      " 6   SibSp        891 non-null    int64  \n",
      " 7   Parch        891 non-null    int64  \n",
      " 8   Ticket       891 non-null    object \n",
      " 9   Fare         891 non-null    float64\n",
      " 10  Cabin        204 non-null    object \n",
      " 11  Embarked     889 non-null    object \n",
      "dtypes: float64(2), int64(5), object(5)\n",
      "memory usage: 83.7+ KB\n"
     ]
    }
   ],
   "source": [
    "train.info()"
   ]
  },
  {
   "cell_type": "markdown",
   "id": "ff7badc2",
   "metadata": {
    "papermill": {
     "duration": 0.069074,
     "end_time": "2022-02-08T02:54:05.448202",
     "exception": false,
     "start_time": "2022-02-08T02:54:05.379128",
     "status": "completed"
    },
    "tags": []
   },
   "source": [
    "Look into the data is necessary to get informations about what we have. First of all lets look the missing data of this titanic dataframe "
   ]
  },
  {
   "cell_type": "code",
   "execution_count": 5,
   "id": "a16e8367",
   "metadata": {
    "execution": {
     "iopub.execute_input": "2022-02-08T02:54:05.591221Z",
     "iopub.status.busy": "2022-02-08T02:54:05.590486Z",
     "iopub.status.idle": "2022-02-08T02:54:05.617442Z",
     "shell.execute_reply": "2022-02-08T02:54:05.616847Z",
     "shell.execute_reply.started": "2022-02-04T14:54:59.879014Z"
    },
    "papermill": {
     "duration": 0.099863,
     "end_time": "2022-02-08T02:54:05.617621",
     "exception": false,
     "start_time": "2022-02-08T02:54:05.517758",
     "status": "completed"
    },
    "tags": []
   },
   "outputs": [
    {
     "data": {
      "text/html": [
       "<div>\n",
       "<style scoped>\n",
       "    .dataframe tbody tr th:only-of-type {\n",
       "        vertical-align: middle;\n",
       "    }\n",
       "\n",
       "    .dataframe tbody tr th {\n",
       "        vertical-align: top;\n",
       "    }\n",
       "\n",
       "    .dataframe thead th {\n",
       "        text-align: right;\n",
       "    }\n",
       "</style>\n",
       "<table border=\"1\" class=\"dataframe\">\n",
       "  <thead>\n",
       "    <tr style=\"text-align: right;\">\n",
       "      <th></th>\n",
       "      <th>PassengerId</th>\n",
       "      <th>Survived</th>\n",
       "      <th>Pclass</th>\n",
       "      <th>Name</th>\n",
       "      <th>Sex</th>\n",
       "      <th>Age</th>\n",
       "      <th>SibSp</th>\n",
       "      <th>Parch</th>\n",
       "      <th>Ticket</th>\n",
       "      <th>Fare</th>\n",
       "      <th>Cabin</th>\n",
       "      <th>Embarked</th>\n",
       "    </tr>\n",
       "  </thead>\n",
       "  <tbody>\n",
       "    <tr>\n",
       "      <th>0</th>\n",
       "      <td>False</td>\n",
       "      <td>False</td>\n",
       "      <td>False</td>\n",
       "      <td>False</td>\n",
       "      <td>False</td>\n",
       "      <td>False</td>\n",
       "      <td>False</td>\n",
       "      <td>False</td>\n",
       "      <td>False</td>\n",
       "      <td>False</td>\n",
       "      <td>True</td>\n",
       "      <td>False</td>\n",
       "    </tr>\n",
       "    <tr>\n",
       "      <th>1</th>\n",
       "      <td>False</td>\n",
       "      <td>False</td>\n",
       "      <td>False</td>\n",
       "      <td>False</td>\n",
       "      <td>False</td>\n",
       "      <td>False</td>\n",
       "      <td>False</td>\n",
       "      <td>False</td>\n",
       "      <td>False</td>\n",
       "      <td>False</td>\n",
       "      <td>False</td>\n",
       "      <td>False</td>\n",
       "    </tr>\n",
       "    <tr>\n",
       "      <th>2</th>\n",
       "      <td>False</td>\n",
       "      <td>False</td>\n",
       "      <td>False</td>\n",
       "      <td>False</td>\n",
       "      <td>False</td>\n",
       "      <td>False</td>\n",
       "      <td>False</td>\n",
       "      <td>False</td>\n",
       "      <td>False</td>\n",
       "      <td>False</td>\n",
       "      <td>True</td>\n",
       "      <td>False</td>\n",
       "    </tr>\n",
       "    <tr>\n",
       "      <th>3</th>\n",
       "      <td>False</td>\n",
       "      <td>False</td>\n",
       "      <td>False</td>\n",
       "      <td>False</td>\n",
       "      <td>False</td>\n",
       "      <td>False</td>\n",
       "      <td>False</td>\n",
       "      <td>False</td>\n",
       "      <td>False</td>\n",
       "      <td>False</td>\n",
       "      <td>False</td>\n",
       "      <td>False</td>\n",
       "    </tr>\n",
       "    <tr>\n",
       "      <th>4</th>\n",
       "      <td>False</td>\n",
       "      <td>False</td>\n",
       "      <td>False</td>\n",
       "      <td>False</td>\n",
       "      <td>False</td>\n",
       "      <td>False</td>\n",
       "      <td>False</td>\n",
       "      <td>False</td>\n",
       "      <td>False</td>\n",
       "      <td>False</td>\n",
       "      <td>True</td>\n",
       "      <td>False</td>\n",
       "    </tr>\n",
       "    <tr>\n",
       "      <th>...</th>\n",
       "      <td>...</td>\n",
       "      <td>...</td>\n",
       "      <td>...</td>\n",
       "      <td>...</td>\n",
       "      <td>...</td>\n",
       "      <td>...</td>\n",
       "      <td>...</td>\n",
       "      <td>...</td>\n",
       "      <td>...</td>\n",
       "      <td>...</td>\n",
       "      <td>...</td>\n",
       "      <td>...</td>\n",
       "    </tr>\n",
       "    <tr>\n",
       "      <th>886</th>\n",
       "      <td>False</td>\n",
       "      <td>False</td>\n",
       "      <td>False</td>\n",
       "      <td>False</td>\n",
       "      <td>False</td>\n",
       "      <td>False</td>\n",
       "      <td>False</td>\n",
       "      <td>False</td>\n",
       "      <td>False</td>\n",
       "      <td>False</td>\n",
       "      <td>True</td>\n",
       "      <td>False</td>\n",
       "    </tr>\n",
       "    <tr>\n",
       "      <th>887</th>\n",
       "      <td>False</td>\n",
       "      <td>False</td>\n",
       "      <td>False</td>\n",
       "      <td>False</td>\n",
       "      <td>False</td>\n",
       "      <td>False</td>\n",
       "      <td>False</td>\n",
       "      <td>False</td>\n",
       "      <td>False</td>\n",
       "      <td>False</td>\n",
       "      <td>False</td>\n",
       "      <td>False</td>\n",
       "    </tr>\n",
       "    <tr>\n",
       "      <th>888</th>\n",
       "      <td>False</td>\n",
       "      <td>False</td>\n",
       "      <td>False</td>\n",
       "      <td>False</td>\n",
       "      <td>False</td>\n",
       "      <td>True</td>\n",
       "      <td>False</td>\n",
       "      <td>False</td>\n",
       "      <td>False</td>\n",
       "      <td>False</td>\n",
       "      <td>True</td>\n",
       "      <td>False</td>\n",
       "    </tr>\n",
       "    <tr>\n",
       "      <th>889</th>\n",
       "      <td>False</td>\n",
       "      <td>False</td>\n",
       "      <td>False</td>\n",
       "      <td>False</td>\n",
       "      <td>False</td>\n",
       "      <td>False</td>\n",
       "      <td>False</td>\n",
       "      <td>False</td>\n",
       "      <td>False</td>\n",
       "      <td>False</td>\n",
       "      <td>False</td>\n",
       "      <td>False</td>\n",
       "    </tr>\n",
       "    <tr>\n",
       "      <th>890</th>\n",
       "      <td>False</td>\n",
       "      <td>False</td>\n",
       "      <td>False</td>\n",
       "      <td>False</td>\n",
       "      <td>False</td>\n",
       "      <td>False</td>\n",
       "      <td>False</td>\n",
       "      <td>False</td>\n",
       "      <td>False</td>\n",
       "      <td>False</td>\n",
       "      <td>True</td>\n",
       "      <td>False</td>\n",
       "    </tr>\n",
       "  </tbody>\n",
       "</table>\n",
       "<p>891 rows × 12 columns</p>\n",
       "</div>"
      ],
      "text/plain": [
       "     PassengerId  Survived  Pclass   Name    Sex    Age  SibSp  Parch  Ticket  \\\n",
       "0          False     False   False  False  False  False  False  False   False   \n",
       "1          False     False   False  False  False  False  False  False   False   \n",
       "2          False     False   False  False  False  False  False  False   False   \n",
       "3          False     False   False  False  False  False  False  False   False   \n",
       "4          False     False   False  False  False  False  False  False   False   \n",
       "..           ...       ...     ...    ...    ...    ...    ...    ...     ...   \n",
       "886        False     False   False  False  False  False  False  False   False   \n",
       "887        False     False   False  False  False  False  False  False   False   \n",
       "888        False     False   False  False  False   True  False  False   False   \n",
       "889        False     False   False  False  False  False  False  False   False   \n",
       "890        False     False   False  False  False  False  False  False   False   \n",
       "\n",
       "      Fare  Cabin  Embarked  \n",
       "0    False   True     False  \n",
       "1    False  False     False  \n",
       "2    False   True     False  \n",
       "3    False  False     False  \n",
       "4    False   True     False  \n",
       "..     ...    ...       ...  \n",
       "886  False   True     False  \n",
       "887  False  False     False  \n",
       "888  False   True     False  \n",
       "889  False  False     False  \n",
       "890  False   True     False  \n",
       "\n",
       "[891 rows x 12 columns]"
      ]
     },
     "execution_count": 5,
     "metadata": {},
     "output_type": "execute_result"
    }
   ],
   "source": [
    "train.isnull()\n",
    "#lets put this simple code on a headmap to see how missing we are"
   ]
  },
  {
   "cell_type": "markdown",
   "id": "d41387c4",
   "metadata": {
    "papermill": {
     "duration": 0.069804,
     "end_time": "2022-02-08T02:54:05.758890",
     "exception": false,
     "start_time": "2022-02-08T02:54:05.689086",
     "status": "completed"
    },
    "tags": []
   },
   "source": [
    "# Using seaborn to visualisy the missing data"
   ]
  },
  {
   "cell_type": "code",
   "execution_count": 6,
   "id": "200444e8",
   "metadata": {
    "execution": {
     "iopub.execute_input": "2022-02-08T02:54:05.906499Z",
     "iopub.status.busy": "2022-02-08T02:54:05.905805Z",
     "iopub.status.idle": "2022-02-08T02:54:06.388097Z",
     "shell.execute_reply": "2022-02-08T02:54:06.387305Z",
     "shell.execute_reply.started": "2022-02-04T14:54:59.910504Z"
    },
    "papermill": {
     "duration": 0.558715,
     "end_time": "2022-02-08T02:54:06.388266",
     "exception": false,
     "start_time": "2022-02-08T02:54:05.829551",
     "status": "completed"
    },
    "tags": []
   },
   "outputs": [
    {
     "data": {
      "text/plain": [
       "<AxesSubplot:>"
      ]
     },
     "execution_count": 6,
     "metadata": {},
     "output_type": "execute_result"
    },
    {
     "data": {
      "image/png": "[encoded data removed]",
      "text/plain": [
       "<Figure size 432x288 with 2 Axes>"
      ]
     },
     "metadata": {
      "needs_background": "light"
     },
     "output_type": "display_data"
    }
   ],
   "source": [
    "sns.heatmap(train.isnull())"
   ]
  },
  {
   "cell_type": "markdown",
   "id": "63517bd9",
   "metadata": {
    "papermill": {
     "duration": 0.070772,
     "end_time": "2022-02-08T02:54:06.530320",
     "exception": false,
     "start_time": "2022-02-08T02:54:06.459548",
     "status": "completed"
    },
    "tags": []
   },
   "source": [
    "or do it a way better"
   ]
  },
  {
   "cell_type": "code",
   "execution_count": 7,
   "id": "b6bf4784",
   "metadata": {
    "execution": {
     "iopub.execute_input": "2022-02-08T02:54:06.683256Z",
     "iopub.status.busy": "2022-02-08T02:54:06.682550Z",
     "iopub.status.idle": "2022-02-08T02:54:06.899710Z",
     "shell.execute_reply": "2022-02-08T02:54:06.900232Z",
     "shell.execute_reply.started": "2022-02-04T14:55:00.248132Z"
    },
    "papermill": {
     "duration": 0.298349,
     "end_time": "2022-02-08T02:54:06.900413",
     "exception": false,
     "start_time": "2022-02-08T02:54:06.602064",
     "status": "completed"
    },
    "tags": []
   },
   "outputs": [
    {
     "data": {
      "text/plain": [
       "<AxesSubplot:>"
      ]
     },
     "execution_count": 7,
     "metadata": {},
     "output_type": "execute_result"
    },
    {
     "data": {
      "image/png": "[encoded data removed]",
      "text/plain": [
       "<Figure size 864x504 with 1 Axes>"
      ]
     },
     "metadata": {
      "needs_background": "light"
     },
     "output_type": "display_data"
    }
   ],
   "source": [
    "plt.figure(figsize=(12, 7))\n",
    "sns.heatmap(train.isnull(),yticklabels=False,cbar=False,cmap='viridis') #cbar false to binary situation"
   ]
  },
  {
   "cell_type": "markdown",
   "id": "cddfa6d3",
   "metadata": {
    "papermill": {
     "duration": 0.072779,
     "end_time": "2022-02-08T02:54:07.046172",
     "exception": false,
     "start_time": "2022-02-08T02:54:06.973393",
     "status": "completed"
    },
    "tags": []
   },
   "source": [
    "we see the age,cabin and Embarked column have some missing information but how much of this is information is missing"
   ]
  },
  {
   "cell_type": "code",
   "execution_count": 8,
   "id": "3d283701",
   "metadata": {
    "execution": {
     "iopub.execute_input": "2022-02-08T02:54:07.195498Z",
     "iopub.status.busy": "2022-02-08T02:54:07.194217Z",
     "iopub.status.idle": "2022-02-08T02:54:07.201112Z",
     "shell.execute_reply": "2022-02-08T02:54:07.201703Z",
     "shell.execute_reply.started": "2022-02-04T14:55:00.440958Z"
    },
    "papermill": {
     "duration": 0.083409,
     "end_time": "2022-02-08T02:54:07.201881",
     "exception": false,
     "start_time": "2022-02-08T02:54:07.118472",
     "status": "completed"
    },
    "tags": []
   },
   "outputs": [
    {
     "data": {
      "text/plain": [
       "177"
      ]
     },
     "execution_count": 8,
     "metadata": {},
     "output_type": "execute_result"
    }
   ],
   "source": [
    "nullOnAge = train[\"Age\"].isnull().sum()\n",
    "nullOnAge"
   ]
  },
  {
   "cell_type": "code",
   "execution_count": 9,
   "id": "dd94f1ec",
   "metadata": {
    "execution": {
     "iopub.execute_input": "2022-02-08T02:54:07.351657Z",
     "iopub.status.busy": "2022-02-08T02:54:07.350653Z",
     "iopub.status.idle": "2022-02-08T02:54:07.356643Z",
     "shell.execute_reply": "2022-02-08T02:54:07.357241Z",
     "shell.execute_reply.started": "2022-02-04T14:55:00.448113Z"
    },
    "papermill": {
     "duration": 0.082641,
     "end_time": "2022-02-08T02:54:07.357416",
     "exception": false,
     "start_time": "2022-02-08T02:54:07.274775",
     "status": "completed"
    },
    "tags": []
   },
   "outputs": [
    {
     "data": {
      "text/plain": [
       "0.19865319865319866"
      ]
     },
     "execution_count": 9,
     "metadata": {},
     "output_type": "execute_result"
    }
   ],
   "source": [
    "nullOnAge/(len(train[\"Age\"]))"
   ]
  },
  {
   "cell_type": "markdown",
   "id": "d615f392",
   "metadata": {
    "papermill": {
     "duration": 0.072263,
     "end_time": "2022-02-08T02:54:07.502437",
     "exception": false,
     "start_time": "2022-02-08T02:54:07.430174",
     "status": "completed"
    },
    "tags": []
   },
   "source": [
    "about 20% of the Age data is missing\n",
    "\n",
    "Now lets look around the cabin missing data"
   ]
  },
  {
   "cell_type": "code",
   "execution_count": 10,
   "id": "39606320",
   "metadata": {
    "execution": {
     "iopub.execute_input": "2022-02-08T02:54:07.652250Z",
     "iopub.status.busy": "2022-02-08T02:54:07.651261Z",
     "iopub.status.idle": "2022-02-08T02:54:07.657543Z",
     "shell.execute_reply": "2022-02-08T02:54:07.658174Z",
     "shell.execute_reply.started": "2022-02-04T14:55:00.464429Z"
    },
    "papermill": {
     "duration": 0.082957,
     "end_time": "2022-02-08T02:54:07.658345",
     "exception": false,
     "start_time": "2022-02-08T02:54:07.575388",
     "status": "completed"
    },
    "tags": []
   },
   "outputs": [
    {
     "data": {
      "text/plain": [
       "687"
      ]
     },
     "execution_count": 10,
     "metadata": {},
     "output_type": "execute_result"
    }
   ],
   "source": [
    "nullOnCabin = train[\"Cabin\"].isnull().sum()\n",
    "nullOnCabin"
   ]
  },
  {
   "cell_type": "code",
   "execution_count": 11,
   "id": "ae817365",
   "metadata": {
    "execution": {
     "iopub.execute_input": "2022-02-08T02:54:07.810299Z",
     "iopub.status.busy": "2022-02-08T02:54:07.809286Z",
     "iopub.status.idle": "2022-02-08T02:54:07.814724Z",
     "shell.execute_reply": "2022-02-08T02:54:07.815368Z",
     "shell.execute_reply.started": "2022-02-04T14:55:00.479746Z"
    },
    "papermill": {
     "duration": 0.082875,
     "end_time": "2022-02-08T02:54:07.815535",
     "exception": false,
     "start_time": "2022-02-08T02:54:07.732660",
     "status": "completed"
    },
    "tags": []
   },
   "outputs": [
    {
     "data": {
      "text/plain": [
       "0.7710437710437711"
      ]
     },
     "execution_count": 11,
     "metadata": {},
     "output_type": "execute_result"
    }
   ],
   "source": [
    "nullOnCabin/len(train[\"Cabin\"])"
   ]
  },
  {
   "cell_type": "markdown",
   "id": "3a923c4d",
   "metadata": {
    "papermill": {
     "duration": 0.075428,
     "end_time": "2022-02-08T02:54:07.967568",
     "exception": false,
     "start_time": "2022-02-08T02:54:07.892140",
     "status": "completed"
    },
    "tags": []
   },
   "source": [
    "77% of data is missing on the Cabin collum"
   ]
  },
  {
   "cell_type": "markdown",
   "id": "29459b78",
   "metadata": {
    "papermill": {
     "duration": 0.076161,
     "end_time": "2022-02-08T02:54:08.117778",
     "exception": false,
     "start_time": "2022-02-08T02:54:08.041617",
     "status": "completed"
    },
    "tags": []
   },
   "source": [
    "its possible to use the age if we complete the missing anwsers. One strategy is to use the Pclass columns who has the pasxsanger class information to use the mean of each one of them to replace the missing age. "
   ]
  },
  {
   "cell_type": "code",
   "execution_count": 12,
   "id": "a5e74097",
   "metadata": {
    "execution": {
     "iopub.execute_input": "2022-02-08T02:54:08.272597Z",
     "iopub.status.busy": "2022-02-08T02:54:08.271486Z",
     "iopub.status.idle": "2022-02-08T02:54:08.511899Z",
     "shell.execute_reply": "2022-02-08T02:54:08.511356Z",
     "shell.execute_reply.started": "2022-02-04T14:55:00.490952Z"
    },
    "papermill": {
     "duration": 0.319342,
     "end_time": "2022-02-08T02:54:08.512083",
     "exception": false,
     "start_time": "2022-02-08T02:54:08.192741",
     "status": "completed"
    },
    "tags": []
   },
   "outputs": [
    {
     "data": {
      "text/plain": [
       "<AxesSubplot:xlabel='Pclass', ylabel='Age'>"
      ]
     },
     "execution_count": 12,
     "metadata": {},
     "output_type": "execute_result"
    },
    {
     "data": {
      "image/png": "[encoded data removed]",
      "text/plain": [
       "<Figure size 864x504 with 1 Axes>"
      ]
     },
     "metadata": {
      "needs_background": "light"
     },
     "output_type": "display_data"
    }
   ],
   "source": [
    "\n",
    "plt.figure(figsize=(12,7))\n",
    "sns.boxplot(x=\"Pclass\",y=\"Age\",data=train)"
   ]
  },
  {
   "cell_type": "markdown",
   "id": "38ea5c1c",
   "metadata": {
    "papermill": {
     "duration": 0.075311,
     "end_time": "2022-02-08T02:54:08.663132",
     "exception": false,
     "start_time": "2022-02-08T02:54:08.587821",
     "status": "completed"
    },
    "tags": []
   },
   "source": [
    "# Before it, let give a look at the suvivers"
   ]
  },
  {
   "cell_type": "markdown",
   "id": "83ffe27e",
   "metadata": {
    "papermill": {
     "duration": 0.077177,
     "end_time": "2022-02-08T02:54:08.815761",
     "exception": false,
     "start_time": "2022-02-08T02:54:08.738584",
     "status": "completed"
    },
    "tags": []
   },
   "source": [
    "from this dataset the major of people there died"
   ]
  },
  {
   "cell_type": "code",
   "execution_count": 13,
   "id": "53fa4b19",
   "metadata": {
    "execution": {
     "iopub.execute_input": "2022-02-08T02:54:08.981925Z",
     "iopub.status.busy": "2022-02-08T02:54:08.981188Z",
     "iopub.status.idle": "2022-02-08T02:54:09.146387Z",
     "shell.execute_reply": "2022-02-08T02:54:09.145829Z",
     "shell.execute_reply.started": "2022-02-04T14:55:00.671462Z"
    },
    "papermill": {
     "duration": 0.253987,
     "end_time": "2022-02-08T02:54:09.146552",
     "exception": false,
     "start_time": "2022-02-08T02:54:08.892565",
     "status": "completed"
    },
    "tags": []
   },
   "outputs": [
    {
     "data": {
      "text/plain": [
       "<AxesSubplot:xlabel='Survived', ylabel='count'>"
      ]
     },
     "execution_count": 13,
     "metadata": {},
     "output_type": "execute_result"
    },
    {
     "data": {
      "image/png": "[encoded data removed]",
      "text/plain": [
       "<Figure size 432x288 with 1 Axes>"
      ]
     },
     "metadata": {
      "needs_background": "light"
     },
     "output_type": "display_data"
    }
   ],
   "source": [
    "sns.countplot(x=\"Survived\",data=train)"
   ]
  },
  {
   "cell_type": "markdown",
   "id": "cc1a9037",
   "metadata": {
    "papermill": {
     "duration": 0.075514,
     "end_time": "2022-02-08T02:54:09.298207",
     "exception": false,
     "start_time": "2022-02-08T02:54:09.222693",
     "status": "completed"
    },
    "tags": []
   },
   "source": [
    "looking the plot below the major of the ones who died was the men while 2/3 of women lived. Let check out what was this exactly number it can helps in the future analysis"
   ]
  },
  {
   "cell_type": "code",
   "execution_count": 14,
   "id": "ee21ef0d",
   "metadata": {
    "execution": {
     "iopub.execute_input": "2022-02-08T02:54:09.454322Z",
     "iopub.status.busy": "2022-02-08T02:54:09.453572Z",
     "iopub.status.idle": "2022-02-08T02:54:09.649416Z",
     "shell.execute_reply": "2022-02-08T02:54:09.648873Z",
     "shell.execute_reply.started": "2022-02-04T14:55:00.784241Z"
    },
    "papermill": {
     "duration": 0.275274,
     "end_time": "2022-02-08T02:54:09.649575",
     "exception": false,
     "start_time": "2022-02-08T02:54:09.374301",
     "status": "completed"
    },
    "tags": []
   },
   "outputs": [
    {
     "data": {
      "text/plain": [
       "<AxesSubplot:xlabel='Survived', ylabel='count'>"
      ]
     },
     "execution_count": 14,
     "metadata": {},
     "output_type": "execute_result"
    },
    {
     "data": {
      "image/png": "[encoded data removed]",
      "text/plain": [
       "<Figure size 432x288 with 1 Axes>"
      ]
     },
     "metadata": {
      "needs_background": "light"
     },
     "output_type": "display_data"
    }
   ],
   "source": [
    "sns.countplot(x=\"Survived\",data=train,hue='Sex')"
   ]
  },
  {
   "cell_type": "code",
   "execution_count": 15,
   "id": "2059db1b",
   "metadata": {
    "execution": {
     "iopub.execute_input": "2022-02-08T02:54:09.810817Z",
     "iopub.status.busy": "2022-02-08T02:54:09.809996Z",
     "iopub.status.idle": "2022-02-08T02:54:09.815055Z",
     "shell.execute_reply": "2022-02-08T02:54:09.815545Z",
     "shell.execute_reply.started": "2022-02-04T14:55:00.92327Z"
    },
    "papermill": {
     "duration": 0.088034,
     "end_time": "2022-02-08T02:54:09.815760",
     "exception": false,
     "start_time": "2022-02-08T02:54:09.727726",
     "status": "completed"
    },
    "tags": []
   },
   "outputs": [],
   "source": [
    "totalman=(train[\"Sex\"] == \"male\").sum()\n",
    "manSurvived=((train[\"Survived\"]== 1)&(train[\"Sex\"] == \"male\")).sum()"
   ]
  },
  {
   "cell_type": "code",
   "execution_count": 16,
   "id": "b1ac09fe",
   "metadata": {
    "execution": {
     "iopub.execute_input": "2022-02-08T02:54:09.977274Z",
     "iopub.status.busy": "2022-02-08T02:54:09.976469Z",
     "iopub.status.idle": "2022-02-08T02:54:09.980738Z",
     "shell.execute_reply": "2022-02-08T02:54:09.981242Z",
     "shell.execute_reply.started": "2022-02-04T14:55:00.930244Z"
    },
    "papermill": {
     "duration": 0.08623,
     "end_time": "2022-02-08T02:54:09.981427",
     "exception": false,
     "start_time": "2022-02-08T02:54:09.895197",
     "status": "completed"
    },
    "tags": []
   },
   "outputs": [
    {
     "data": {
      "text/plain": [
       "0.18890814558058924"
      ]
     },
     "execution_count": 16,
     "metadata": {},
     "output_type": "execute_result"
    }
   ],
   "source": [
    "per_manSurvived=manSurvived/totalman\n",
    "per_manSurvived\n",
    "\n",
    "# 18,9% of the man survived"
   ]
  },
  {
   "cell_type": "code",
   "execution_count": 17,
   "id": "6df757d6",
   "metadata": {
    "execution": {
     "iopub.execute_input": "2022-02-08T02:54:10.148901Z",
     "iopub.status.busy": "2022-02-08T02:54:10.148126Z",
     "iopub.status.idle": "2022-02-08T02:54:10.151616Z",
     "shell.execute_reply": "2022-02-08T02:54:10.150926Z",
     "shell.execute_reply.started": "2022-02-04T14:55:00.944537Z"
    },
    "papermill": {
     "duration": 0.08985,
     "end_time": "2022-02-08T02:54:10.151775",
     "exception": false,
     "start_time": "2022-02-08T02:54:10.061925",
     "status": "completed"
    },
    "tags": []
   },
   "outputs": [],
   "source": [
    "totalwoman=(train[\"Sex\"] == \"female\").sum()\n",
    "womanSurvived=((train[\"Survived\"]== 1)&(train[\"Sex\"] == \"female\")).sum()"
   ]
  },
  {
   "cell_type": "code",
   "execution_count": 18,
   "id": "4fcf9571",
   "metadata": {
    "execution": {
     "iopub.execute_input": "2022-02-08T02:54:10.314247Z",
     "iopub.status.busy": "2022-02-08T02:54:10.313358Z",
     "iopub.status.idle": "2022-02-08T02:54:10.316708Z",
     "shell.execute_reply": "2022-02-08T02:54:10.317200Z",
     "shell.execute_reply.started": "2022-02-04T14:55:00.959886Z"
    },
    "papermill": {
     "duration": 0.087511,
     "end_time": "2022-02-08T02:54:10.317387",
     "exception": false,
     "start_time": "2022-02-08T02:54:10.229876",
     "status": "completed"
    },
    "tags": []
   },
   "outputs": [
    {
     "data": {
      "text/plain": [
       "0.7420382165605095"
      ]
     },
     "execution_count": 18,
     "metadata": {},
     "output_type": "execute_result"
    }
   ],
   "source": [
    "per_womanSurvived=womanSurvived/totalwoman\n",
    "per_womanSurvived\n",
    "\n",
    "#74% of the woman on titanic survived"
   ]
  },
  {
   "cell_type": "code",
   "execution_count": 19,
   "id": "00a233dc",
   "metadata": {
    "execution": {
     "iopub.execute_input": "2022-02-08T02:54:10.479371Z",
     "iopub.status.busy": "2022-02-08T02:54:10.478338Z",
     "iopub.status.idle": "2022-02-08T02:54:10.704952Z",
     "shell.execute_reply": "2022-02-08T02:54:10.703950Z",
     "shell.execute_reply.started": "2022-02-04T14:55:00.974476Z"
    },
    "papermill": {
     "duration": 0.310461,
     "end_time": "2022-02-08T02:54:10.705227",
     "exception": false,
     "start_time": "2022-02-08T02:54:10.394766",
     "status": "completed"
    },
    "tags": []
   },
   "outputs": [
    {
     "data": {
      "text/plain": [
       "<AxesSubplot:xlabel='Survived', ylabel='count'>"
      ]
     },
     "execution_count": 19,
     "metadata": {},
     "output_type": "execute_result"
    },
    {
     "data": {
      "image/png": "[encoded data removed]",
      "text/plain": [
       "<Figure size 432x288 with 1 Axes>"
      ]
     },
     "metadata": {
      "needs_background": "light"
     },
     "output_type": "display_data"
    }
   ],
   "source": [
    "sns.countplot(x=\"Survived\",data=train,hue='Pclass')"
   ]
  },
  {
   "cell_type": "markdown",
   "id": "ac110b0a",
   "metadata": {
    "papermill": {
     "duration": 0.0789,
     "end_time": "2022-02-08T02:54:10.862615",
     "exception": false,
     "start_time": "2022-02-08T02:54:10.783715",
     "status": "completed"
    },
    "tags": []
   },
   "source": [
    "Giving a look at the age"
   ]
  },
  {
   "cell_type": "code",
   "execution_count": 20,
   "id": "41056e2b",
   "metadata": {
    "execution": {
     "iopub.execute_input": "2022-02-08T02:54:11.026446Z",
     "iopub.status.busy": "2022-02-08T02:54:11.025733Z",
     "iopub.status.idle": "2022-02-08T02:54:11.453777Z",
     "shell.execute_reply": "2022-02-08T02:54:11.453060Z",
     "shell.execute_reply.started": "2022-02-04T14:55:01.169173Z"
    },
    "papermill": {
     "duration": 0.511618,
     "end_time": "2022-02-08T02:54:11.453934",
     "exception": false,
     "start_time": "2022-02-08T02:54:10.942316",
     "status": "completed"
    },
    "tags": []
   },
   "outputs": [
    {
     "data": {
      "text/plain": [
       "<AxesSubplot:>"
      ]
     },
     "execution_count": 20,
     "metadata": {},
     "output_type": "execute_result"
    },
    {
     "data": {
      "image/png": "[encoded data removed]",
      "text/plain": [
       "<Figure size 432x288 with 1 Axes>"
      ]
     },
     "metadata": {
      "needs_background": "light"
     },
     "output_type": "display_data"
    }
   ],
   "source": [
    "train['Age'].hist(bins=100)"
   ]
  },
  {
   "cell_type": "code",
   "execution_count": 21,
   "id": "6112d852",
   "metadata": {
    "execution": {
     "iopub.execute_input": "2022-02-08T02:54:11.619455Z",
     "iopub.status.busy": "2022-02-08T02:54:11.618785Z",
     "iopub.status.idle": "2022-02-08T02:54:11.821740Z",
     "shell.execute_reply": "2022-02-08T02:54:11.822493Z",
     "shell.execute_reply.started": "2022-02-04T14:55:01.551101Z"
    },
    "papermill": {
     "duration": 0.288626,
     "end_time": "2022-02-08T02:54:11.822722",
     "exception": false,
     "start_time": "2022-02-08T02:54:11.534096",
     "status": "completed"
    },
    "tags": []
   },
   "outputs": [
    {
     "data": {
      "text/plain": [
       "<AxesSubplot:xlabel='SibSp', ylabel='count'>"
      ]
     },
     "execution_count": 21,
     "metadata": {},
     "output_type": "execute_result"
    },
    {
     "data": {
      "image/png": "[encoded data removed]",
      "text/plain": [
       "<Figure size 432x288 with 1 Axes>"
      ]
     },
     "metadata": {
      "needs_background": "light"
     },
     "output_type": "display_data"
    }
   ],
   "source": [
    "sns.countplot(x='SibSp',data=train)"
   ]
  },
  {
   "cell_type": "markdown",
   "id": "79a9ced7",
   "metadata": {
    "papermill": {
     "duration": 0.090287,
     "end_time": "2022-02-08T02:54:11.994065",
     "exception": false,
     "start_time": "2022-02-08T02:54:11.903778",
     "status": "completed"
    },
    "tags": []
   },
   "source": [
    "# Data manipulation -  using pclass to input missing age"
   ]
  },
  {
   "cell_type": "code",
   "execution_count": 22,
   "id": "5a799829",
   "metadata": {
    "execution": {
     "iopub.execute_input": "2022-02-08T02:54:12.180699Z",
     "iopub.status.busy": "2022-02-08T02:54:12.179704Z",
     "iopub.status.idle": "2022-02-08T02:54:12.412290Z",
     "shell.execute_reply": "2022-02-08T02:54:12.413055Z",
     "shell.execute_reply.started": "2022-02-04T14:55:01.73722Z"
    },
    "papermill": {
     "duration": 0.316885,
     "end_time": "2022-02-08T02:54:12.413242",
     "exception": false,
     "start_time": "2022-02-08T02:54:12.096357",
     "status": "completed"
    },
    "tags": []
   },
   "outputs": [
    {
     "data": {
      "text/plain": [
       "<AxesSubplot:xlabel='Pclass', ylabel='Age'>"
      ]
     },
     "execution_count": 22,
     "metadata": {},
     "output_type": "execute_result"
    },
    {
     "data": {
      "image/png": "[encoded data removed]",
      "text/plain": [
       "<Figure size 864x504 with 1 Axes>"
      ]
     },
     "metadata": {
      "needs_background": "light"
     },
     "output_type": "display_data"
    }
   ],
   "source": [
    "\n",
    "plt.figure(figsize=(12,7))\n",
    "sns.boxplot(x=\"Pclass\",y=\"Age\",data=train)"
   ]
  },
  {
   "cell_type": "code",
   "execution_count": 23,
   "id": "c04bcdfb",
   "metadata": {
    "execution": {
     "iopub.execute_input": "2022-02-08T02:54:12.584136Z",
     "iopub.status.busy": "2022-02-08T02:54:12.583438Z",
     "iopub.status.idle": "2022-02-08T02:54:12.586262Z",
     "shell.execute_reply": "2022-02-08T02:54:12.585590Z",
     "shell.execute_reply.started": "2022-02-04T14:55:02.029214Z"
    },
    "papermill": {
     "duration": 0.091397,
     "end_time": "2022-02-08T02:54:12.586405",
     "exception": false,
     "start_time": "2022-02-08T02:54:12.495008",
     "status": "completed"
    },
    "tags": []
   },
   "outputs": [],
   "source": [
    "# this function will replace the null age number for the mean of pclass if the passenger is from\n",
    "#first class he will return 38 years as we can see in the up figure that is the mean of fisrt class age;\n",
    "\n",
    "def put_age (cols):\n",
    "    age = cols[0]\n",
    "    Classe = cols[1]\n",
    "    \n",
    "    if pd.isnull(age):\n",
    "        if Classe == 1:\n",
    "            return 38\n",
    "        elif Classe == 2:\n",
    "            return 30\n",
    "        else:\n",
    "            return 25\n",
    "    else:\n",
    "        return age\n",
    "        "
   ]
  },
  {
   "cell_type": "code",
   "execution_count": 24,
   "id": "c18bf46e",
   "metadata": {
    "execution": {
     "iopub.execute_input": "2022-02-08T02:54:12.763419Z",
     "iopub.status.busy": "2022-02-08T02:54:12.762414Z",
     "iopub.status.idle": "2022-02-08T02:54:12.776377Z",
     "shell.execute_reply": "2022-02-08T02:54:12.775808Z",
     "shell.execute_reply.started": "2022-02-04T14:55:02.035446Z"
    },
    "papermill": {
     "duration": 0.108978,
     "end_time": "2022-02-08T02:54:12.776531",
     "exception": false,
     "start_time": "2022-02-08T02:54:12.667553",
     "status": "completed"
    },
    "tags": []
   },
   "outputs": [],
   "source": [
    "#calling the function using apply, very useful\n",
    "train[\"Age\"] = train[[\"Age\",\"Pclass\"]].apply(put_age,axis=1) \n"
   ]
  },
  {
   "cell_type": "code",
   "execution_count": 25,
   "id": "6942269e",
   "metadata": {
    "execution": {
     "iopub.execute_input": "2022-02-08T02:54:12.947291Z",
     "iopub.status.busy": "2022-02-08T02:54:12.946552Z",
     "iopub.status.idle": "2022-02-08T02:54:13.370958Z",
     "shell.execute_reply": "2022-02-08T02:54:13.370436Z",
     "shell.execute_reply.started": "2022-02-04T14:55:02.068713Z"
    },
    "papermill": {
     "duration": 0.511386,
     "end_time": "2022-02-08T02:54:13.371123",
     "exception": false,
     "start_time": "2022-02-08T02:54:12.859737",
     "status": "completed"
    },
    "tags": []
   },
   "outputs": [
    {
     "data": {
      "text/plain": [
       "<AxesSubplot:>"
      ]
     },
     "execution_count": 25,
     "metadata": {},
     "output_type": "execute_result"
    },
    {
     "data": {
      "image/png": "[encoded data removed]",
      "text/plain": [
       "<Figure size 432x288 with 1 Axes>"
      ]
     },
     "metadata": {
      "needs_background": "light"
     },
     "output_type": "display_data"
    }
   ],
   "source": [
    "train[\"Age\"].hist()"
   ]
  },
  {
   "cell_type": "markdown",
   "id": "954d37be",
   "metadata": {
    "papermill": {
     "duration": 0.081971,
     "end_time": "2022-02-08T02:54:13.535180",
     "exception": false,
     "start_time": "2022-02-08T02:54:13.453209",
     "status": "completed"
    },
    "tags": []
   },
   "source": [
    "After we use the pclass age mean to input on the missing ages of the dataframe lets check how it looks and see what else can be done to clean the data "
   ]
  },
  {
   "cell_type": "code",
   "execution_count": 26,
   "id": "018b54d1",
   "metadata": {
    "execution": {
     "iopub.execute_input": "2022-02-08T02:54:13.706310Z",
     "iopub.status.busy": "2022-02-08T02:54:13.705617Z",
     "iopub.status.idle": "2022-02-08T02:54:13.918268Z",
     "shell.execute_reply": "2022-02-08T02:54:13.918814Z",
     "shell.execute_reply.started": "2022-02-04T14:55:02.21193Z"
    },
    "papermill": {
     "duration": 0.301565,
     "end_time": "2022-02-08T02:54:13.918985",
     "exception": false,
     "start_time": "2022-02-08T02:54:13.617420",
     "status": "completed"
    },
    "tags": []
   },
   "outputs": [
    {
     "data": {
      "text/plain": [
       "<AxesSubplot:>"
      ]
     },
     "execution_count": 26,
     "metadata": {},
     "output_type": "execute_result"
    },
    {
     "data": {
      "image/png": "[encoded data removed]",
      "text/plain": [
       "<Figure size 864x504 with 1 Axes>"
      ]
     },
     "metadata": {
      "needs_background": "light"
     },
     "output_type": "display_data"
    }
   ],
   "source": [
    "plt.figure(figsize=(12, 7))\n",
    "sns.heatmap(train.isnull(),yticklabels=False,cbar=False,cmap='viridis') #cbar false to binary situation"
   ]
  },
  {
   "cell_type": "code",
   "execution_count": 27,
   "id": "0d6aa347",
   "metadata": {
    "execution": {
     "iopub.execute_input": "2022-02-08T02:54:14.094209Z",
     "iopub.status.busy": "2022-02-08T02:54:14.093442Z",
     "iopub.status.idle": "2022-02-08T02:54:14.096925Z",
     "shell.execute_reply": "2022-02-08T02:54:14.097490Z",
     "shell.execute_reply.started": "2022-02-04T14:55:02.372345Z"
    },
    "papermill": {
     "duration": 0.093109,
     "end_time": "2022-02-08T02:54:14.097708",
     "exception": false,
     "start_time": "2022-02-08T02:54:14.004599",
     "status": "completed"
    },
    "tags": []
   },
   "outputs": [],
   "source": [
    "#just del the column that we cant work with\n",
    "del train[\"Cabin\"]"
   ]
  },
  {
   "cell_type": "code",
   "execution_count": 28,
   "id": "68616894",
   "metadata": {
    "execution": {
     "iopub.execute_input": "2022-02-08T02:54:14.271395Z",
     "iopub.status.busy": "2022-02-08T02:54:14.270628Z",
     "iopub.status.idle": "2022-02-08T02:54:14.471999Z",
     "shell.execute_reply": "2022-02-08T02:54:14.471474Z",
     "shell.execute_reply.started": "2022-02-04T14:55:02.380018Z"
    },
    "papermill": {
     "duration": 0.289069,
     "end_time": "2022-02-08T02:54:14.472186",
     "exception": false,
     "start_time": "2022-02-08T02:54:14.183117",
     "status": "completed"
    },
    "tags": []
   },
   "outputs": [
    {
     "data": {
      "text/plain": [
       "<AxesSubplot:>"
      ]
     },
     "execution_count": 28,
     "metadata": {},
     "output_type": "execute_result"
    },
    {
     "data": {
      "image/png": "[encoded data removed]",
      "text/plain": [
       "<Figure size 864x504 with 1 Axes>"
      ]
     },
     "metadata": {
      "needs_background": "light"
     },
     "output_type": "display_data"
    }
   ],
   "source": [
    "plt.figure(figsize=(12, 7))\n",
    "sns.heatmap(train.isnull(),yticklabels=False,cbar=False,cmap='viridis') #cbar false to binary situation"
   ]
  },
  {
   "cell_type": "markdown",
   "id": "73eb1bb7",
   "metadata": {
    "papermill": {
     "duration": 0.084782,
     "end_time": "2022-02-08T02:54:14.641973",
     "exception": false,
     "start_time": "2022-02-08T02:54:14.557191",
     "status": "completed"
    },
    "tags": []
   },
   "source": [
    "# get_dummies method "
   ]
  },
  {
   "cell_type": "markdown",
   "id": "c4a43def",
   "metadata": {
    "papermill": {
     "duration": 0.085287,
     "end_time": "2022-02-08T02:54:14.813549",
     "exception": false,
     "start_time": "2022-02-08T02:54:14.728262",
     "status": "completed"
    },
    "tags": []
   },
   "source": [
    "get dummies is useful to discretize the categorical variables transforming them in zeros and ones we need to do it to sex and Embarked"
   ]
  },
  {
   "cell_type": "code",
   "execution_count": 29,
   "id": "7717a352",
   "metadata": {
    "execution": {
     "iopub.execute_input": "2022-02-08T02:54:14.993090Z",
     "iopub.status.busy": "2022-02-08T02:54:14.992347Z",
     "iopub.status.idle": "2022-02-08T02:54:15.000805Z",
     "shell.execute_reply": "2022-02-08T02:54:15.001309Z",
     "shell.execute_reply.started": "2022-02-04T14:55:02.52945Z"
    },
    "papermill": {
     "duration": 0.102284,
     "end_time": "2022-02-08T02:54:15.001514",
     "exception": false,
     "start_time": "2022-02-08T02:54:14.899230",
     "status": "completed"
    },
    "tags": []
   },
   "outputs": [
    {
     "data": {
      "text/html": [
       "<div>\n",
       "<style scoped>\n",
       "    .dataframe tbody tr th:only-of-type {\n",
       "        vertical-align: middle;\n",
       "    }\n",
       "\n",
       "    .dataframe tbody tr th {\n",
       "        vertical-align: top;\n",
       "    }\n",
       "\n",
       "    .dataframe thead th {\n",
       "        text-align: right;\n",
       "    }\n",
       "</style>\n",
       "<table border=\"1\" class=\"dataframe\">\n",
       "  <thead>\n",
       "    <tr style=\"text-align: right;\">\n",
       "      <th></th>\n",
       "      <th>female</th>\n",
       "      <th>male</th>\n",
       "    </tr>\n",
       "  </thead>\n",
       "  <tbody>\n",
       "    <tr>\n",
       "      <th>0</th>\n",
       "      <td>0</td>\n",
       "      <td>1</td>\n",
       "    </tr>\n",
       "    <tr>\n",
       "      <th>1</th>\n",
       "      <td>1</td>\n",
       "      <td>0</td>\n",
       "    </tr>\n",
       "    <tr>\n",
       "      <th>2</th>\n",
       "      <td>1</td>\n",
       "      <td>0</td>\n",
       "    </tr>\n",
       "    <tr>\n",
       "      <th>3</th>\n",
       "      <td>1</td>\n",
       "      <td>0</td>\n",
       "    </tr>\n",
       "    <tr>\n",
       "      <th>4</th>\n",
       "      <td>0</td>\n",
       "      <td>1</td>\n",
       "    </tr>\n",
       "    <tr>\n",
       "      <th>...</th>\n",
       "      <td>...</td>\n",
       "      <td>...</td>\n",
       "    </tr>\n",
       "    <tr>\n",
       "      <th>886</th>\n",
       "      <td>0</td>\n",
       "      <td>1</td>\n",
       "    </tr>\n",
       "    <tr>\n",
       "      <th>887</th>\n",
       "      <td>1</td>\n",
       "      <td>0</td>\n",
       "    </tr>\n",
       "    <tr>\n",
       "      <th>888</th>\n",
       "      <td>1</td>\n",
       "      <td>0</td>\n",
       "    </tr>\n",
       "    <tr>\n",
       "      <th>889</th>\n",
       "      <td>0</td>\n",
       "      <td>1</td>\n",
       "    </tr>\n",
       "    <tr>\n",
       "      <th>890</th>\n",
       "      <td>0</td>\n",
       "      <td>1</td>\n",
       "    </tr>\n",
       "  </tbody>\n",
       "</table>\n",
       "<p>891 rows × 2 columns</p>\n",
       "</div>"
      ],
      "text/plain": [
       "     female  male\n",
       "0         0     1\n",
       "1         1     0\n",
       "2         1     0\n",
       "3         1     0\n",
       "4         0     1\n",
       "..      ...   ...\n",
       "886       0     1\n",
       "887       1     0\n",
       "888       1     0\n",
       "889       0     1\n",
       "890       0     1\n",
       "\n",
       "[891 rows x 2 columns]"
      ]
     },
     "execution_count": 29,
     "metadata": {},
     "output_type": "execute_result"
    }
   ],
   "source": [
    "pd.get_dummies(train[\"Sex\"])"
   ]
  },
  {
   "cell_type": "code",
   "execution_count": 30,
   "id": "c46537c8",
   "metadata": {
    "execution": {
     "iopub.execute_input": "2022-02-08T02:54:15.178206Z",
     "iopub.status.busy": "2022-02-08T02:54:15.177529Z",
     "iopub.status.idle": "2022-02-08T02:54:15.188427Z",
     "shell.execute_reply": "2022-02-08T02:54:15.188900Z",
     "shell.execute_reply.started": "2022-02-04T14:55:02.539836Z"
    },
    "papermill": {
     "duration": 0.099912,
     "end_time": "2022-02-08T02:54:15.189132",
     "exception": false,
     "start_time": "2022-02-08T02:54:15.089220",
     "status": "completed"
    },
    "tags": []
   },
   "outputs": [
    {
     "data": {
      "text/html": [
       "<div>\n",
       "<style scoped>\n",
       "    .dataframe tbody tr th:only-of-type {\n",
       "        vertical-align: middle;\n",
       "    }\n",
       "\n",
       "    .dataframe tbody tr th {\n",
       "        vertical-align: top;\n",
       "    }\n",
       "\n",
       "    .dataframe thead th {\n",
       "        text-align: right;\n",
       "    }\n",
       "</style>\n",
       "<table border=\"1\" class=\"dataframe\">\n",
       "  <thead>\n",
       "    <tr style=\"text-align: right;\">\n",
       "      <th></th>\n",
       "      <th>male</th>\n",
       "    </tr>\n",
       "  </thead>\n",
       "  <tbody>\n",
       "    <tr>\n",
       "      <th>0</th>\n",
       "      <td>1</td>\n",
       "    </tr>\n",
       "    <tr>\n",
       "      <th>1</th>\n",
       "      <td>0</td>\n",
       "    </tr>\n",
       "    <tr>\n",
       "      <th>2</th>\n",
       "      <td>0</td>\n",
       "    </tr>\n",
       "    <tr>\n",
       "      <th>3</th>\n",
       "      <td>0</td>\n",
       "    </tr>\n",
       "    <tr>\n",
       "      <th>4</th>\n",
       "      <td>1</td>\n",
       "    </tr>\n",
       "    <tr>\n",
       "      <th>...</th>\n",
       "      <td>...</td>\n",
       "    </tr>\n",
       "    <tr>\n",
       "      <th>886</th>\n",
       "      <td>1</td>\n",
       "    </tr>\n",
       "    <tr>\n",
       "      <th>887</th>\n",
       "      <td>0</td>\n",
       "    </tr>\n",
       "    <tr>\n",
       "      <th>888</th>\n",
       "      <td>0</td>\n",
       "    </tr>\n",
       "    <tr>\n",
       "      <th>889</th>\n",
       "      <td>1</td>\n",
       "    </tr>\n",
       "    <tr>\n",
       "      <th>890</th>\n",
       "      <td>1</td>\n",
       "    </tr>\n",
       "  </tbody>\n",
       "</table>\n",
       "<p>891 rows × 1 columns</p>\n",
       "</div>"
      ],
      "text/plain": [
       "     male\n",
       "0       1\n",
       "1       0\n",
       "2       0\n",
       "3       0\n",
       "4       1\n",
       "..    ...\n",
       "886     1\n",
       "887     0\n",
       "888     0\n",
       "889     1\n",
       "890     1\n",
       "\n",
       "[891 rows x 1 columns]"
      ]
     },
     "execution_count": 30,
     "metadata": {},
     "output_type": "execute_result"
    }
   ],
   "source": [
    "# but we can exclude the first line the is redundant\n",
    "pd.get_dummies(train[\"Sex\"],drop_first=True)"
   ]
  },
  {
   "cell_type": "markdown",
   "id": "cc1d14e1",
   "metadata": {
    "papermill": {
     "duration": 0.085928,
     "end_time": "2022-02-08T02:54:15.360858",
     "exception": false,
     "start_time": "2022-02-08T02:54:15.274930",
     "status": "completed"
    },
    "tags": []
   },
   "source": [
    "\n"
   ]
  },
  {
   "cell_type": "code",
   "execution_count": 31,
   "id": "c752531a",
   "metadata": {
    "execution": {
     "iopub.execute_input": "2022-02-08T02:54:15.538071Z",
     "iopub.status.busy": "2022-02-08T02:54:15.536954Z",
     "iopub.status.idle": "2022-02-08T02:54:15.542440Z",
     "shell.execute_reply": "2022-02-08T02:54:15.542900Z",
     "shell.execute_reply.started": "2022-02-04T14:55:02.556512Z"
    },
    "papermill": {
     "duration": 0.095717,
     "end_time": "2022-02-08T02:54:15.543142",
     "exception": false,
     "start_time": "2022-02-08T02:54:15.447425",
     "status": "completed"
    },
    "tags": []
   },
   "outputs": [],
   "source": [
    "Sex=pd.get_dummies(train[\"Sex\"],drop_first=True)\n"
   ]
  },
  {
   "cell_type": "code",
   "execution_count": 32,
   "id": "29973bc2",
   "metadata": {
    "execution": {
     "iopub.execute_input": "2022-02-08T02:54:15.721739Z",
     "iopub.status.busy": "2022-02-08T02:54:15.720699Z",
     "iopub.status.idle": "2022-02-08T02:54:15.726182Z",
     "shell.execute_reply": "2022-02-08T02:54:15.726670Z",
     "shell.execute_reply.started": "2022-02-04T14:55:02.569126Z"
    },
    "papermill": {
     "duration": 0.096385,
     "end_time": "2022-02-08T02:54:15.726860",
     "exception": false,
     "start_time": "2022-02-08T02:54:15.630475",
     "status": "completed"
    },
    "tags": []
   },
   "outputs": [],
   "source": [
    "Embark=pd.get_dummies(train[\"Embarked\"],drop_first=True)"
   ]
  },
  {
   "cell_type": "markdown",
   "id": "dcd4022c",
   "metadata": {
    "papermill": {
     "duration": 0.085639,
     "end_time": "2022-02-08T02:54:15.899731",
     "exception": false,
     "start_time": "2022-02-08T02:54:15.814092",
     "status": "completed"
    },
    "tags": []
   },
   "source": [
    "In other hand our model cant undestand categorical variables thats how we use the get_dummies method;\n",
    "so we need to drop the colums (axis=1) that are not numerical."
   ]
  },
  {
   "cell_type": "code",
   "execution_count": 33,
   "id": "7751dfc4",
   "metadata": {
    "execution": {
     "iopub.execute_input": "2022-02-08T02:54:16.085057Z",
     "iopub.status.busy": "2022-02-08T02:54:16.084353Z",
     "iopub.status.idle": "2022-02-08T02:54:16.086921Z",
     "shell.execute_reply": "2022-02-08T02:54:16.087483Z",
     "shell.execute_reply.started": "2022-02-04T14:55:02.582863Z"
    },
    "papermill": {
     "duration": 0.096993,
     "end_time": "2022-02-08T02:54:16.087692",
     "exception": false,
     "start_time": "2022-02-08T02:54:15.990699",
     "status": "completed"
    },
    "tags": []
   },
   "outputs": [],
   "source": [
    "train.drop(['Sex', 'PassengerId', 'Name', 'Ticket',\"Embarked\"],axis=1, inplace = True)"
   ]
  },
  {
   "cell_type": "code",
   "execution_count": 34,
   "id": "e49fe314",
   "metadata": {
    "execution": {
     "iopub.execute_input": "2022-02-08T02:54:16.267143Z",
     "iopub.status.busy": "2022-02-08T02:54:16.263963Z",
     "iopub.status.idle": "2022-02-08T02:54:16.268795Z",
     "shell.execute_reply": "2022-02-08T02:54:16.269407Z",
     "shell.execute_reply.started": "2022-02-04T14:55:02.596741Z"
    },
    "papermill": {
     "duration": 0.095525,
     "end_time": "2022-02-08T02:54:16.269598",
     "exception": false,
     "start_time": "2022-02-08T02:54:16.174073",
     "status": "completed"
    },
    "tags": []
   },
   "outputs": [],
   "source": [
    "#concat put the infomation together\n",
    "train = pd.concat([train,Sex,Embark], axis= 1)"
   ]
  },
  {
   "cell_type": "code",
   "execution_count": 35,
   "id": "455c922e",
   "metadata": {
    "execution": {
     "iopub.execute_input": "2022-02-08T02:54:16.444456Z",
     "iopub.status.busy": "2022-02-08T02:54:16.443791Z",
     "iopub.status.idle": "2022-02-08T02:54:16.461952Z",
     "shell.execute_reply": "2022-02-08T02:54:16.462553Z",
     "shell.execute_reply.started": "2022-02-04T14:55:02.614908Z"
    },
    "papermill": {
     "duration": 0.107404,
     "end_time": "2022-02-08T02:54:16.462736",
     "exception": false,
     "start_time": "2022-02-08T02:54:16.355332",
     "status": "completed"
    },
    "tags": []
   },
   "outputs": [
    {
     "data": {
      "text/html": [
       "<div>\n",
       "<style scoped>\n",
       "    .dataframe tbody tr th:only-of-type {\n",
       "        vertical-align: middle;\n",
       "    }\n",
       "\n",
       "    .dataframe tbody tr th {\n",
       "        vertical-align: top;\n",
       "    }\n",
       "\n",
       "    .dataframe thead th {\n",
       "        text-align: right;\n",
       "    }\n",
       "</style>\n",
       "<table border=\"1\" class=\"dataframe\">\n",
       "  <thead>\n",
       "    <tr style=\"text-align: right;\">\n",
       "      <th></th>\n",
       "      <th>Survived</th>\n",
       "      <th>Pclass</th>\n",
       "      <th>Age</th>\n",
       "      <th>SibSp</th>\n",
       "      <th>Parch</th>\n",
       "      <th>Fare</th>\n",
       "      <th>Sex</th>\n",
       "      <th>Q</th>\n",
       "      <th>S</th>\n",
       "    </tr>\n",
       "  </thead>\n",
       "  <tbody>\n",
       "    <tr>\n",
       "      <th>0</th>\n",
       "      <td>0</td>\n",
       "      <td>3</td>\n",
       "      <td>22.0</td>\n",
       "      <td>1</td>\n",
       "      <td>0</td>\n",
       "      <td>7.2500</td>\n",
       "      <td>1</td>\n",
       "      <td>0</td>\n",
       "      <td>1</td>\n",
       "    </tr>\n",
       "    <tr>\n",
       "      <th>1</th>\n",
       "      <td>1</td>\n",
       "      <td>1</td>\n",
       "      <td>38.0</td>\n",
       "      <td>1</td>\n",
       "      <td>0</td>\n",
       "      <td>71.2833</td>\n",
       "      <td>0</td>\n",
       "      <td>0</td>\n",
       "      <td>0</td>\n",
       "    </tr>\n",
       "    <tr>\n",
       "      <th>2</th>\n",
       "      <td>1</td>\n",
       "      <td>3</td>\n",
       "      <td>26.0</td>\n",
       "      <td>0</td>\n",
       "      <td>0</td>\n",
       "      <td>7.9250</td>\n",
       "      <td>0</td>\n",
       "      <td>0</td>\n",
       "      <td>1</td>\n",
       "    </tr>\n",
       "    <tr>\n",
       "      <th>3</th>\n",
       "      <td>1</td>\n",
       "      <td>1</td>\n",
       "      <td>35.0</td>\n",
       "      <td>1</td>\n",
       "      <td>0</td>\n",
       "      <td>53.1000</td>\n",
       "      <td>0</td>\n",
       "      <td>0</td>\n",
       "      <td>1</td>\n",
       "    </tr>\n",
       "    <tr>\n",
       "      <th>4</th>\n",
       "      <td>0</td>\n",
       "      <td>3</td>\n",
       "      <td>35.0</td>\n",
       "      <td>0</td>\n",
       "      <td>0</td>\n",
       "      <td>8.0500</td>\n",
       "      <td>1</td>\n",
       "      <td>0</td>\n",
       "      <td>1</td>\n",
       "    </tr>\n",
       "    <tr>\n",
       "      <th>...</th>\n",
       "      <td>...</td>\n",
       "      <td>...</td>\n",
       "      <td>...</td>\n",
       "      <td>...</td>\n",
       "      <td>...</td>\n",
       "      <td>...</td>\n",
       "      <td>...</td>\n",
       "      <td>...</td>\n",
       "      <td>...</td>\n",
       "    </tr>\n",
       "    <tr>\n",
       "      <th>886</th>\n",
       "      <td>0</td>\n",
       "      <td>2</td>\n",
       "      <td>27.0</td>\n",
       "      <td>0</td>\n",
       "      <td>0</td>\n",
       "      <td>13.0000</td>\n",
       "      <td>1</td>\n",
       "      <td>0</td>\n",
       "      <td>1</td>\n",
       "    </tr>\n",
       "    <tr>\n",
       "      <th>887</th>\n",
       "      <td>1</td>\n",
       "      <td>1</td>\n",
       "      <td>19.0</td>\n",
       "      <td>0</td>\n",
       "      <td>0</td>\n",
       "      <td>30.0000</td>\n",
       "      <td>0</td>\n",
       "      <td>0</td>\n",
       "      <td>1</td>\n",
       "    </tr>\n",
       "    <tr>\n",
       "      <th>888</th>\n",
       "      <td>0</td>\n",
       "      <td>3</td>\n",
       "      <td>25.0</td>\n",
       "      <td>1</td>\n",
       "      <td>2</td>\n",
       "      <td>23.4500</td>\n",
       "      <td>0</td>\n",
       "      <td>0</td>\n",
       "      <td>1</td>\n",
       "    </tr>\n",
       "    <tr>\n",
       "      <th>889</th>\n",
       "      <td>1</td>\n",
       "      <td>1</td>\n",
       "      <td>26.0</td>\n",
       "      <td>0</td>\n",
       "      <td>0</td>\n",
       "      <td>30.0000</td>\n",
       "      <td>1</td>\n",
       "      <td>0</td>\n",
       "      <td>0</td>\n",
       "    </tr>\n",
       "    <tr>\n",
       "      <th>890</th>\n",
       "      <td>0</td>\n",
       "      <td>3</td>\n",
       "      <td>32.0</td>\n",
       "      <td>0</td>\n",
       "      <td>0</td>\n",
       "      <td>7.7500</td>\n",
       "      <td>1</td>\n",
       "      <td>1</td>\n",
       "      <td>0</td>\n",
       "    </tr>\n",
       "  </tbody>\n",
       "</table>\n",
       "<p>891 rows × 9 columns</p>\n",
       "</div>"
      ],
      "text/plain": [
       "     Survived  Pclass   Age  SibSp  Parch     Fare  Sex  Q  S\n",
       "0           0       3  22.0      1      0   7.2500    1  0  1\n",
       "1           1       1  38.0      1      0  71.2833    0  0  0\n",
       "2           1       3  26.0      0      0   7.9250    0  0  1\n",
       "3           1       1  35.0      1      0  53.1000    0  0  1\n",
       "4           0       3  35.0      0      0   8.0500    1  0  1\n",
       "..        ...     ...   ...    ...    ...      ...  ... .. ..\n",
       "886         0       2  27.0      0      0  13.0000    1  0  1\n",
       "887         1       1  19.0      0      0  30.0000    0  0  1\n",
       "888         0       3  25.0      1      2  23.4500    0  0  1\n",
       "889         1       1  26.0      0      0  30.0000    1  0  0\n",
       "890         0       3  32.0      0      0   7.7500    1  1  0\n",
       "\n",
       "[891 rows x 9 columns]"
      ]
     },
     "execution_count": 35,
     "metadata": {},
     "output_type": "execute_result"
    }
   ],
   "source": [
    "#renamin the column called male by get_dummies to its original\n",
    "train.rename(columns ={\"male\":\"Sex\"},inplace=True)\n",
    "train"
   ]
  },
  {
   "cell_type": "markdown",
   "id": "967e610b",
   "metadata": {
    "papermill": {
     "duration": 0.086236,
     "end_time": "2022-02-08T02:54:16.635073",
     "exception": false,
     "start_time": "2022-02-08T02:54:16.548837",
     "status": "completed"
    },
    "tags": []
   },
   "source": [
    "Do you remember that embarked had 2 outlayers Nan on they columns? lets drop they out as simple as :"
   ]
  },
  {
   "cell_type": "code",
   "execution_count": 36,
   "id": "23d9a37a",
   "metadata": {
    "execution": {
     "iopub.execute_input": "2022-02-08T02:54:16.812064Z",
     "iopub.status.busy": "2022-02-08T02:54:16.811447Z",
     "iopub.status.idle": "2022-02-08T02:54:16.831226Z",
     "shell.execute_reply": "2022-02-08T02:54:16.831815Z",
     "shell.execute_reply.started": "2022-02-04T14:55:02.639904Z"
    },
    "papermill": {
     "duration": 0.11042,
     "end_time": "2022-02-08T02:54:16.831980",
     "exception": false,
     "start_time": "2022-02-08T02:54:16.721560",
     "status": "completed"
    },
    "tags": []
   },
   "outputs": [
    {
     "data": {
      "text/html": [
       "<div>\n",
       "<style scoped>\n",
       "    .dataframe tbody tr th:only-of-type {\n",
       "        vertical-align: middle;\n",
       "    }\n",
       "\n",
       "    .dataframe tbody tr th {\n",
       "        vertical-align: top;\n",
       "    }\n",
       "\n",
       "    .dataframe thead th {\n",
       "        text-align: right;\n",
       "    }\n",
       "</style>\n",
       "<table border=\"1\" class=\"dataframe\">\n",
       "  <thead>\n",
       "    <tr style=\"text-align: right;\">\n",
       "      <th></th>\n",
       "      <th>Survived</th>\n",
       "      <th>Pclass</th>\n",
       "      <th>Age</th>\n",
       "      <th>SibSp</th>\n",
       "      <th>Parch</th>\n",
       "      <th>Fare</th>\n",
       "      <th>Sex</th>\n",
       "      <th>Q</th>\n",
       "      <th>S</th>\n",
       "    </tr>\n",
       "  </thead>\n",
       "  <tbody>\n",
       "    <tr>\n",
       "      <th>0</th>\n",
       "      <td>0</td>\n",
       "      <td>3</td>\n",
       "      <td>22.0</td>\n",
       "      <td>1</td>\n",
       "      <td>0</td>\n",
       "      <td>7.2500</td>\n",
       "      <td>1</td>\n",
       "      <td>0</td>\n",
       "      <td>1</td>\n",
       "    </tr>\n",
       "    <tr>\n",
       "      <th>1</th>\n",
       "      <td>1</td>\n",
       "      <td>1</td>\n",
       "      <td>38.0</td>\n",
       "      <td>1</td>\n",
       "      <td>0</td>\n",
       "      <td>71.2833</td>\n",
       "      <td>0</td>\n",
       "      <td>0</td>\n",
       "      <td>0</td>\n",
       "    </tr>\n",
       "    <tr>\n",
       "      <th>2</th>\n",
       "      <td>1</td>\n",
       "      <td>3</td>\n",
       "      <td>26.0</td>\n",
       "      <td>0</td>\n",
       "      <td>0</td>\n",
       "      <td>7.9250</td>\n",
       "      <td>0</td>\n",
       "      <td>0</td>\n",
       "      <td>1</td>\n",
       "    </tr>\n",
       "    <tr>\n",
       "      <th>3</th>\n",
       "      <td>1</td>\n",
       "      <td>1</td>\n",
       "      <td>35.0</td>\n",
       "      <td>1</td>\n",
       "      <td>0</td>\n",
       "      <td>53.1000</td>\n",
       "      <td>0</td>\n",
       "      <td>0</td>\n",
       "      <td>1</td>\n",
       "    </tr>\n",
       "    <tr>\n",
       "      <th>4</th>\n",
       "      <td>0</td>\n",
       "      <td>3</td>\n",
       "      <td>35.0</td>\n",
       "      <td>0</td>\n",
       "      <td>0</td>\n",
       "      <td>8.0500</td>\n",
       "      <td>1</td>\n",
       "      <td>0</td>\n",
       "      <td>1</td>\n",
       "    </tr>\n",
       "    <tr>\n",
       "      <th>...</th>\n",
       "      <td>...</td>\n",
       "      <td>...</td>\n",
       "      <td>...</td>\n",
       "      <td>...</td>\n",
       "      <td>...</td>\n",
       "      <td>...</td>\n",
       "      <td>...</td>\n",
       "      <td>...</td>\n",
       "      <td>...</td>\n",
       "    </tr>\n",
       "    <tr>\n",
       "      <th>886</th>\n",
       "      <td>0</td>\n",
       "      <td>2</td>\n",
       "      <td>27.0</td>\n",
       "      <td>0</td>\n",
       "      <td>0</td>\n",
       "      <td>13.0000</td>\n",
       "      <td>1</td>\n",
       "      <td>0</td>\n",
       "      <td>1</td>\n",
       "    </tr>\n",
       "    <tr>\n",
       "      <th>887</th>\n",
       "      <td>1</td>\n",
       "      <td>1</td>\n",
       "      <td>19.0</td>\n",
       "      <td>0</td>\n",
       "      <td>0</td>\n",
       "      <td>30.0000</td>\n",
       "      <td>0</td>\n",
       "      <td>0</td>\n",
       "      <td>1</td>\n",
       "    </tr>\n",
       "    <tr>\n",
       "      <th>888</th>\n",
       "      <td>0</td>\n",
       "      <td>3</td>\n",
       "      <td>25.0</td>\n",
       "      <td>1</td>\n",
       "      <td>2</td>\n",
       "      <td>23.4500</td>\n",
       "      <td>0</td>\n",
       "      <td>0</td>\n",
       "      <td>1</td>\n",
       "    </tr>\n",
       "    <tr>\n",
       "      <th>889</th>\n",
       "      <td>1</td>\n",
       "      <td>1</td>\n",
       "      <td>26.0</td>\n",
       "      <td>0</td>\n",
       "      <td>0</td>\n",
       "      <td>30.0000</td>\n",
       "      <td>1</td>\n",
       "      <td>0</td>\n",
       "      <td>0</td>\n",
       "    </tr>\n",
       "    <tr>\n",
       "      <th>890</th>\n",
       "      <td>0</td>\n",
       "      <td>3</td>\n",
       "      <td>32.0</td>\n",
       "      <td>0</td>\n",
       "      <td>0</td>\n",
       "      <td>7.7500</td>\n",
       "      <td>1</td>\n",
       "      <td>1</td>\n",
       "      <td>0</td>\n",
       "    </tr>\n",
       "  </tbody>\n",
       "</table>\n",
       "<p>891 rows × 9 columns</p>\n",
       "</div>"
      ],
      "text/plain": [
       "     Survived  Pclass   Age  SibSp  Parch     Fare  Sex  Q  S\n",
       "0           0       3  22.0      1      0   7.2500    1  0  1\n",
       "1           1       1  38.0      1      0  71.2833    0  0  0\n",
       "2           1       3  26.0      0      0   7.9250    0  0  1\n",
       "3           1       1  35.0      1      0  53.1000    0  0  1\n",
       "4           0       3  35.0      0      0   8.0500    1  0  1\n",
       "..        ...     ...   ...    ...    ...      ...  ... .. ..\n",
       "886         0       2  27.0      0      0  13.0000    1  0  1\n",
       "887         1       1  19.0      0      0  30.0000    0  0  1\n",
       "888         0       3  25.0      1      2  23.4500    0  0  1\n",
       "889         1       1  26.0      0      0  30.0000    1  0  0\n",
       "890         0       3  32.0      0      0   7.7500    1  1  0\n",
       "\n",
       "[891 rows x 9 columns]"
      ]
     },
     "execution_count": 36,
     "metadata": {},
     "output_type": "execute_result"
    }
   ],
   "source": [
    "train.dropna(inplace=True)\n",
    "train"
   ]
  },
  {
   "cell_type": "code",
   "execution_count": 37,
   "id": "78669c30",
   "metadata": {
    "execution": {
     "iopub.execute_input": "2022-02-08T02:54:17.011434Z",
     "iopub.status.busy": "2022-02-08T02:54:17.010769Z",
     "iopub.status.idle": "2022-02-08T02:54:17.193366Z",
     "shell.execute_reply": "2022-02-08T02:54:17.192814Z",
     "shell.execute_reply.started": "2022-02-04T14:55:02.665063Z"
    },
    "papermill": {
     "duration": 0.27489,
     "end_time": "2022-02-08T02:54:17.193524",
     "exception": false,
     "start_time": "2022-02-08T02:54:16.918634",
     "status": "completed"
    },
    "tags": []
   },
   "outputs": [
    {
     "data": {
      "text/plain": [
       "<AxesSubplot:>"
      ]
     },
     "execution_count": 37,
     "metadata": {},
     "output_type": "execute_result"
    },
    {
     "data": {
      "image/png": "[encoded data removed]",
      "text/plain": [
       "<Figure size 864x504 with 1 Axes>"
      ]
     },
     "metadata": {
      "needs_background": "light"
     },
     "output_type": "display_data"
    }
   ],
   "source": [
    "plt.figure(figsize=(12, 7))\n",
    "sns.heatmap(train.isnull(),yticklabels=False,cbar=False,cmap='viridis') #cbar false to binary situation"
   ]
  },
  {
   "cell_type": "markdown",
   "id": "cc409bd9",
   "metadata": {
    "papermill": {
     "duration": 0.088706,
     "end_time": "2022-02-08T02:54:17.370983",
     "exception": false,
     "start_time": "2022-02-08T02:54:17.282277",
     "status": "completed"
    },
    "tags": []
   },
   "source": [
    "In resume what we did was transforme the dataset trow numbers representation, notice that now the dataset shows the Sex in a binary situation where the male is represented by the number 1 and the female by the number 0 the same logic goes to the embarked columns that had 3 representations C Q S notice that we dont need tree columns to represent them just the Q and S because when we want to represent the letter C embark we can do it by zeroly(if this word don't exist it should) Q and S. now lets train the logistic regression model and see the results."
   ]
  },
  {
   "cell_type": "markdown",
   "id": "76282382",
   "metadata": {
    "papermill": {
     "duration": 0.091272,
     "end_time": "2022-02-08T02:54:17.553968",
     "exception": false,
     "start_time": "2022-02-08T02:54:17.462696",
     "status": "completed"
    },
    "tags": []
   },
   "source": [
    "# The model"
   ]
  },
  {
   "cell_type": "markdown",
   "id": "d9a0c5c2",
   "metadata": {
    "papermill": {
     "duration": 0.088567,
     "end_time": "2022-02-08T02:54:17.731475",
     "exception": false,
     "start_time": "2022-02-08T02:54:17.642908",
     "status": "completed"
    },
    "tags": []
   },
   "source": [
    "the easy thing that we will do is to test this model. First of all we will import it from sklearn and as we are using only the train dataset we need to split it into train and test. Train is what we use in out model to learn and Test is the new information that we evaluate our model."
   ]
  },
  {
   "cell_type": "code",
   "execution_count": 38,
   "id": "912a6f19",
   "metadata": {
    "execution": {
     "iopub.execute_input": "2022-02-08T02:54:17.913295Z",
     "iopub.status.busy": "2022-02-08T02:54:17.912525Z",
     "iopub.status.idle": "2022-02-08T02:54:18.189606Z",
     "shell.execute_reply": "2022-02-08T02:54:18.188943Z",
     "shell.execute_reply.started": "2022-02-04T14:55:02.806238Z"
    },
    "papermill": {
     "duration": 0.369259,
     "end_time": "2022-02-08T02:54:18.189770",
     "exception": false,
     "start_time": "2022-02-08T02:54:17.820511",
     "status": "completed"
    },
    "tags": []
   },
   "outputs": [],
   "source": [
    "from sklearn.linear_model import LogisticRegression"
   ]
  },
  {
   "cell_type": "code",
   "execution_count": 39,
   "id": "10fd676e",
   "metadata": {
    "execution": {
     "iopub.execute_input": "2022-02-08T02:54:18.376850Z",
     "iopub.status.busy": "2022-02-08T02:54:18.375887Z",
     "iopub.status.idle": "2022-02-08T02:54:18.379262Z",
     "shell.execute_reply": "2022-02-08T02:54:18.378674Z",
     "shell.execute_reply.started": "2022-02-04T14:55:03.016483Z"
    },
    "papermill": {
     "duration": 0.0986,
     "end_time": "2022-02-08T02:54:18.379424",
     "exception": false,
     "start_time": "2022-02-08T02:54:18.280824",
     "status": "completed"
    },
    "tags": []
   },
   "outputs": [],
   "source": [
    "from sklearn.model_selection import train_test_split"
   ]
  },
  {
   "cell_type": "markdown",
   "id": "a5c1a4db",
   "metadata": {
    "papermill": {
     "duration": 0.089325,
     "end_time": "2022-02-08T02:54:18.557912",
     "exception": false,
     "start_time": "2022-02-08T02:54:18.468587",
     "status": "completed"
    },
    "tags": []
   },
   "source": [
    "use train_test_split to test the train dataset look close the code below\n",
    "\n",
    "-train_test_split receive 4 variables\n",
    "- X_train and X_test will get all the columns from data set droping survive\n",
    "- y_train and y_test will get only the survived columns\n",
    "- test_size = 0.3 will split 70% train and 30% test\n",
    "\n",
    " "
   ]
  },
  {
   "cell_type": "code",
   "execution_count": 40,
   "id": "5bc41346",
   "metadata": {
    "execution": {
     "iopub.execute_input": "2022-02-08T02:54:18.744215Z",
     "iopub.status.busy": "2022-02-08T02:54:18.743194Z",
     "iopub.status.idle": "2022-02-08T02:54:18.748074Z",
     "shell.execute_reply": "2022-02-08T02:54:18.747482Z",
     "shell.execute_reply.started": "2022-02-04T14:55:03.022518Z"
    },
    "papermill": {
     "duration": 0.101659,
     "end_time": "2022-02-08T02:54:18.748238",
     "exception": false,
     "start_time": "2022-02-08T02:54:18.646579",
     "status": "completed"
    },
    "tags": []
   },
   "outputs": [],
   "source": [
    "\n",
    "X_train1, X_test1,y_train1,y_test1 = train_test_split(train.drop(\"Survived\",axis=1),train[\"Survived\"],test_size=0.3)"
   ]
  },
  {
   "cell_type": "markdown",
   "id": "2c013627",
   "metadata": {
    "papermill": {
     "duration": 0.088486,
     "end_time": "2022-02-08T02:54:18.925533",
     "exception": false,
     "start_time": "2022-02-08T02:54:18.837047",
     "status": "completed"
    },
    "tags": []
   },
   "source": [
    "here we just call the instance"
   ]
  },
  {
   "cell_type": "code",
   "execution_count": 41,
   "id": "7bca7172",
   "metadata": {
    "execution": {
     "iopub.execute_input": "2022-02-08T02:54:19.116950Z",
     "iopub.status.busy": "2022-02-08T02:54:19.116252Z",
     "iopub.status.idle": "2022-02-08T02:54:19.119491Z",
     "shell.execute_reply": "2022-02-08T02:54:19.120124Z",
     "shell.execute_reply.started": "2022-02-04T14:55:03.042127Z"
    },
    "papermill": {
     "duration": 0.096396,
     "end_time": "2022-02-08T02:54:19.120318",
     "exception": false,
     "start_time": "2022-02-08T02:54:19.023922",
     "status": "completed"
    },
    "tags": []
   },
   "outputs": [],
   "source": [
    "logmodel = LogisticRegression(solver='liblinear') #solver = \"liblinear\" was used because of a kaggle error"
   ]
  },
  {
   "cell_type": "code",
   "execution_count": 42,
   "id": "92f8df70",
   "metadata": {
    "execution": {
     "iopub.execute_input": "2022-02-08T02:54:19.304828Z",
     "iopub.status.busy": "2022-02-08T02:54:19.303112Z",
     "iopub.status.idle": "2022-02-08T02:54:19.314244Z",
     "shell.execute_reply": "2022-02-08T02:54:19.314750Z",
     "shell.execute_reply.started": "2022-02-04T14:55:03.054211Z"
    },
    "papermill": {
     "duration": 0.104821,
     "end_time": "2022-02-08T02:54:19.314942",
     "exception": false,
     "start_time": "2022-02-08T02:54:19.210121",
     "status": "completed"
    },
    "tags": []
   },
   "outputs": [
    {
     "data": {
      "text/plain": [
       "LogisticRegression(solver='liblinear')"
      ]
     },
     "execution_count": 42,
     "metadata": {},
     "output_type": "execute_result"
    }
   ],
   "source": [
    "# as simple as that you train your model\n",
    "logmodel.fit(X_train1,y_train1)"
   ]
  },
  {
   "cell_type": "code",
   "execution_count": 43,
   "id": "b09ddaa0",
   "metadata": {
    "execution": {
     "iopub.execute_input": "2022-02-08T02:54:19.501382Z",
     "iopub.status.busy": "2022-02-08T02:54:19.500637Z",
     "iopub.status.idle": "2022-02-08T02:54:19.504098Z",
     "shell.execute_reply": "2022-02-08T02:54:19.504574Z",
     "shell.execute_reply.started": "2022-02-04T14:55:03.075716Z"
    },
    "papermill": {
     "duration": 0.10132,
     "end_time": "2022-02-08T02:54:19.504776",
     "exception": false,
     "start_time": "2022-02-08T02:54:19.403456",
     "status": "completed"
    },
    "tags": []
   },
   "outputs": [
    {
     "data": {
      "text/plain": [
       "268"
      ]
     },
     "execution_count": 43,
     "metadata": {},
     "output_type": "execute_result"
    }
   ],
   "source": [
    "#how simple as that you predict your results\n",
    "predict = logmodel.predict(X_test1)\n",
    "len(predict)"
   ]
  },
  {
   "cell_type": "code",
   "execution_count": 44,
   "id": "6367a12d",
   "metadata": {
    "execution": {
     "iopub.execute_input": "2022-02-08T02:54:19.688228Z",
     "iopub.status.busy": "2022-02-08T02:54:19.687554Z",
     "iopub.status.idle": "2022-02-08T02:54:19.690453Z",
     "shell.execute_reply": "2022-02-08T02:54:19.689831Z",
     "shell.execute_reply.started": "2022-02-04T14:55:03.091217Z"
    },
    "papermill": {
     "duration": 0.096733,
     "end_time": "2022-02-08T02:54:19.690603",
     "exception": false,
     "start_time": "2022-02-08T02:54:19.593870",
     "status": "completed"
    },
    "tags": []
   },
   "outputs": [],
   "source": [
    "#this import here will help us to evaluate what we get\n",
    "from sklearn.metrics import classification_report"
   ]
  },
  {
   "cell_type": "markdown",
   "id": "69cd32ba",
   "metadata": {
    "execution": {
     "iopub.execute_input": "2022-02-03T01:36:13.672333Z",
     "iopub.status.busy": "2022-02-03T01:36:13.671524Z",
     "iopub.status.idle": "2022-02-03T01:36:13.676318Z",
     "shell.execute_reply": "2022-02-03T01:36:13.675584Z",
     "shell.execute_reply.started": "2022-02-03T01:36:13.672288Z"
    },
    "papermill": {
     "duration": 0.089391,
     "end_time": "2022-02-08T02:54:19.870138",
     "exception": false,
     "start_time": "2022-02-08T02:54:19.780747",
     "status": "completed"
    },
    "tags": []
   },
   "source": [
    "# Train results"
   ]
  },
  {
   "cell_type": "code",
   "execution_count": 45,
   "id": "9d290d6b",
   "metadata": {
    "execution": {
     "iopub.execute_input": "2022-02-08T02:54:20.059263Z",
     "iopub.status.busy": "2022-02-08T02:54:20.058575Z",
     "iopub.status.idle": "2022-02-08T02:54:20.066748Z",
     "shell.execute_reply": "2022-02-08T02:54:20.065959Z",
     "shell.execute_reply.started": "2022-02-04T14:55:03.103226Z"
    },
    "papermill": {
     "duration": 0.105363,
     "end_time": "2022-02-08T02:54:20.066914",
     "exception": false,
     "start_time": "2022-02-08T02:54:19.961551",
     "status": "completed"
    },
    "tags": []
   },
   "outputs": [
    {
     "name": "stdout",
     "output_type": "stream",
     "text": [
      "              precision    recall  f1-score   support\n",
      "\n",
      "           0       0.83      0.84      0.84       171\n",
      "           1       0.72      0.70      0.71        97\n",
      "\n",
      "    accuracy                           0.79       268\n",
      "   macro avg       0.77      0.77      0.77       268\n",
      "weighted avg       0.79      0.79      0.79       268\n",
      "\n"
     ]
    }
   ],
   "source": [
    "#here is the anwser\n",
    "print(classification_report(y_test1,predict))"
   ]
  },
  {
   "cell_type": "markdown",
   "id": "02cf7d98",
   "metadata": {
    "papermill": {
     "duration": 0.089508,
     "end_time": "2022-02-08T02:54:20.248058",
     "exception": false,
     "start_time": "2022-02-08T02:54:20.158550",
     "status": "completed"
    },
    "tags": []
   },
   "source": [
    "# WE'RE DONE! \n",
    "\n",
    "congratulations if you come until here and if you understand a good part of it. Now its time to make the kaggle prediction because you saw that you model worked and I would like that you did that alone comming here just to check if you did right or to help you with the csv file for  exemple.\n",
    "\n"
   ]
  },
  {
   "cell_type": "markdown",
   "id": "1143abf9",
   "metadata": {
    "papermill": {
     "duration": 0.088625,
     "end_time": "2022-02-08T02:54:20.427571",
     "exception": false,
     "start_time": "2022-02-08T02:54:20.338946",
     "status": "completed"
    },
    "tags": []
   },
   "source": [
    "# Train and Test\n",
    "\n",
    "Now its time to make the kaggle challenge by youself with the same principle that we did util now. The only change is that you will import the train and the test clean them up and fit on you logistic regression model. \n"
   ]
  },
  {
   "cell_type": "code",
   "execution_count": 46,
   "id": "99b5626c",
   "metadata": {
    "execution": {
     "iopub.execute_input": "2022-02-08T02:54:20.608973Z",
     "iopub.status.busy": "2022-02-08T02:54:20.608325Z",
     "iopub.status.idle": "2022-02-08T02:54:20.642756Z",
     "shell.execute_reply": "2022-02-08T02:54:20.643389Z",
     "shell.execute_reply.started": "2022-02-04T14:55:03.122858Z"
    },
    "papermill": {
     "duration": 0.127042,
     "end_time": "2022-02-08T02:54:20.643562",
     "exception": false,
     "start_time": "2022-02-08T02:54:20.516520",
     "status": "completed"
    },
    "tags": []
   },
   "outputs": [
    {
     "data": {
      "text/html": [
       "<div>\n",
       "<style scoped>\n",
       "    .dataframe tbody tr th:only-of-type {\n",
       "        vertical-align: middle;\n",
       "    }\n",
       "\n",
       "    .dataframe tbody tr th {\n",
       "        vertical-align: top;\n",
       "    }\n",
       "\n",
       "    .dataframe thead th {\n",
       "        text-align: right;\n",
       "    }\n",
       "</style>\n",
       "<table border=\"1\" class=\"dataframe\">\n",
       "  <thead>\n",
       "    <tr style=\"text-align: right;\">\n",
       "      <th></th>\n",
       "      <th>PassengerId</th>\n",
       "      <th>Pclass</th>\n",
       "      <th>Name</th>\n",
       "      <th>Sex</th>\n",
       "      <th>Age</th>\n",
       "      <th>SibSp</th>\n",
       "      <th>Parch</th>\n",
       "      <th>Ticket</th>\n",
       "      <th>Fare</th>\n",
       "      <th>Cabin</th>\n",
       "      <th>Embarked</th>\n",
       "    </tr>\n",
       "  </thead>\n",
       "  <tbody>\n",
       "    <tr>\n",
       "      <th>0</th>\n",
       "      <td>892</td>\n",
       "      <td>3</td>\n",
       "      <td>Kelly, Mr. James</td>\n",
       "      <td>male</td>\n",
       "      <td>34.5</td>\n",
       "      <td>0</td>\n",
       "      <td>0</td>\n",
       "      <td>330911</td>\n",
       "      <td>7.8292</td>\n",
       "      <td>NaN</td>\n",
       "      <td>Q</td>\n",
       "    </tr>\n",
       "    <tr>\n",
       "      <th>1</th>\n",
       "      <td>893</td>\n",
       "      <td>3</td>\n",
       "      <td>Wilkes, Mrs. James (Ellen Needs)</td>\n",
       "      <td>female</td>\n",
       "      <td>47.0</td>\n",
       "      <td>1</td>\n",
       "      <td>0</td>\n",
       "      <td>363272</td>\n",
       "      <td>7.0000</td>\n",
       "      <td>NaN</td>\n",
       "      <td>S</td>\n",
       "    </tr>\n",
       "    <tr>\n",
       "      <th>2</th>\n",
       "      <td>894</td>\n",
       "      <td>2</td>\n",
       "      <td>Myles, Mr. Thomas Francis</td>\n",
       "      <td>male</td>\n",
       "      <td>62.0</td>\n",
       "      <td>0</td>\n",
       "      <td>0</td>\n",
       "      <td>240276</td>\n",
       "      <td>9.6875</td>\n",
       "      <td>NaN</td>\n",
       "      <td>Q</td>\n",
       "    </tr>\n",
       "    <tr>\n",
       "      <th>3</th>\n",
       "      <td>895</td>\n",
       "      <td>3</td>\n",
       "      <td>Wirz, Mr. Albert</td>\n",
       "      <td>male</td>\n",
       "      <td>27.0</td>\n",
       "      <td>0</td>\n",
       "      <td>0</td>\n",
       "      <td>315154</td>\n",
       "      <td>8.6625</td>\n",
       "      <td>NaN</td>\n",
       "      <td>S</td>\n",
       "    </tr>\n",
       "    <tr>\n",
       "      <th>4</th>\n",
       "      <td>896</td>\n",
       "      <td>3</td>\n",
       "      <td>Hirvonen, Mrs. Alexander (Helga E Lindqvist)</td>\n",
       "      <td>female</td>\n",
       "      <td>22.0</td>\n",
       "      <td>1</td>\n",
       "      <td>1</td>\n",
       "      <td>3101298</td>\n",
       "      <td>12.2875</td>\n",
       "      <td>NaN</td>\n",
       "      <td>S</td>\n",
       "    </tr>\n",
       "    <tr>\n",
       "      <th>...</th>\n",
       "      <td>...</td>\n",
       "      <td>...</td>\n",
       "      <td>...</td>\n",
       "      <td>...</td>\n",
       "      <td>...</td>\n",
       "      <td>...</td>\n",
       "      <td>...</td>\n",
       "      <td>...</td>\n",
       "      <td>...</td>\n",
       "      <td>...</td>\n",
       "      <td>...</td>\n",
       "    </tr>\n",
       "    <tr>\n",
       "      <th>413</th>\n",
       "      <td>1305</td>\n",
       "      <td>3</td>\n",
       "      <td>Spector, Mr. Woolf</td>\n",
       "      <td>male</td>\n",
       "      <td>NaN</td>\n",
       "      <td>0</td>\n",
       "      <td>0</td>\n",
       "      <td>A.5. 3236</td>\n",
       "      <td>8.0500</td>\n",
       "      <td>NaN</td>\n",
       "      <td>S</td>\n",
       "    </tr>\n",
       "    <tr>\n",
       "      <th>414</th>\n",
       "      <td>1306</td>\n",
       "      <td>1</td>\n",
       "      <td>Oliva y Ocana, Dona. Fermina</td>\n",
       "      <td>female</td>\n",
       "      <td>39.0</td>\n",
       "      <td>0</td>\n",
       "      <td>0</td>\n",
       "      <td>PC 17758</td>\n",
       "      <td>108.9000</td>\n",
       "      <td>C105</td>\n",
       "      <td>C</td>\n",
       "    </tr>\n",
       "    <tr>\n",
       "      <th>415</th>\n",
       "      <td>1307</td>\n",
       "      <td>3</td>\n",
       "      <td>Saether, Mr. Simon Sivertsen</td>\n",
       "      <td>male</td>\n",
       "      <td>38.5</td>\n",
       "      <td>0</td>\n",
       "      <td>0</td>\n",
       "      <td>SOTON/O.Q. 3101262</td>\n",
       "      <td>7.2500</td>\n",
       "      <td>NaN</td>\n",
       "      <td>S</td>\n",
       "    </tr>\n",
       "    <tr>\n",
       "      <th>416</th>\n",
       "      <td>1308</td>\n",
       "      <td>3</td>\n",
       "      <td>Ware, Mr. Frederick</td>\n",
       "      <td>male</td>\n",
       "      <td>NaN</td>\n",
       "      <td>0</td>\n",
       "      <td>0</td>\n",
       "      <td>359309</td>\n",
       "      <td>8.0500</td>\n",
       "      <td>NaN</td>\n",
       "      <td>S</td>\n",
       "    </tr>\n",
       "    <tr>\n",
       "      <th>417</th>\n",
       "      <td>1309</td>\n",
       "      <td>3</td>\n",
       "      <td>Peter, Master. Michael J</td>\n",
       "      <td>male</td>\n",
       "      <td>NaN</td>\n",
       "      <td>1</td>\n",
       "      <td>1</td>\n",
       "      <td>2668</td>\n",
       "      <td>22.3583</td>\n",
       "      <td>NaN</td>\n",
       "      <td>C</td>\n",
       "    </tr>\n",
       "  </tbody>\n",
       "</table>\n",
       "<p>418 rows × 11 columns</p>\n",
       "</div>"
      ],
      "text/plain": [
       "     PassengerId  Pclass                                          Name  \\\n",
       "0            892       3                              Kelly, Mr. James   \n",
       "1            893       3              Wilkes, Mrs. James (Ellen Needs)   \n",
       "2            894       2                     Myles, Mr. Thomas Francis   \n",
       "3            895       3                              Wirz, Mr. Albert   \n",
       "4            896       3  Hirvonen, Mrs. Alexander (Helga E Lindqvist)   \n",
       "..           ...     ...                                           ...   \n",
       "413         1305       3                            Spector, Mr. Woolf   \n",
       "414         1306       1                  Oliva y Ocana, Dona. Fermina   \n",
       "415         1307       3                  Saether, Mr. Simon Sivertsen   \n",
       "416         1308       3                           Ware, Mr. Frederick   \n",
       "417         1309       3                      Peter, Master. Michael J   \n",
       "\n",
       "        Sex   Age  SibSp  Parch              Ticket      Fare Cabin Embarked  \n",
       "0      male  34.5      0      0              330911    7.8292   NaN        Q  \n",
       "1    female  47.0      1      0              363272    7.0000   NaN        S  \n",
       "2      male  62.0      0      0              240276    9.6875   NaN        Q  \n",
       "3      male  27.0      0      0              315154    8.6625   NaN        S  \n",
       "4    female  22.0      1      1             3101298   12.2875   NaN        S  \n",
       "..      ...   ...    ...    ...                 ...       ...   ...      ...  \n",
       "413    male   NaN      0      0           A.5. 3236    8.0500   NaN        S  \n",
       "414  female  39.0      0      0            PC 17758  108.9000  C105        C  \n",
       "415    male  38.5      0      0  SOTON/O.Q. 3101262    7.2500   NaN        S  \n",
       "416    male   NaN      0      0              359309    8.0500   NaN        S  \n",
       "417    male   NaN      1      1                2668   22.3583   NaN        C  \n",
       "\n",
       "[418 rows x 11 columns]"
      ]
     },
     "execution_count": 46,
     "metadata": {},
     "output_type": "execute_result"
    }
   ],
   "source": [
    "test = pd.read_csv('/kaggle/input/titanic/test.csv')\n",
    "test"
   ]
  },
  {
   "cell_type": "code",
   "execution_count": null,
   "id": "a3b448e2",
   "metadata": {
    "papermill": {
     "duration": 0.088964,
     "end_time": "2022-02-08T02:54:20.821383",
     "exception": false,
     "start_time": "2022-02-08T02:54:20.732419",
     "status": "completed"
    },
    "tags": []
   },
   "outputs": [],
   "source": []
  },
  {
   "cell_type": "code",
   "execution_count": 47,
   "id": "7b98c409",
   "metadata": {
    "execution": {
     "iopub.execute_input": "2022-02-08T02:54:21.003709Z",
     "iopub.status.busy": "2022-02-08T02:54:21.003052Z",
     "iopub.status.idle": "2022-02-08T02:54:21.197465Z",
     "shell.execute_reply": "2022-02-08T02:54:21.196924Z",
     "shell.execute_reply.started": "2022-02-04T14:55:03.154866Z"
    },
    "papermill": {
     "duration": 0.287386,
     "end_time": "2022-02-08T02:54:21.197633",
     "exception": false,
     "start_time": "2022-02-08T02:54:20.910247",
     "status": "completed"
    },
    "tags": []
   },
   "outputs": [
    {
     "data": {
      "text/plain": [
       "<AxesSubplot:>"
      ]
     },
     "execution_count": 47,
     "metadata": {},
     "output_type": "execute_result"
    },
    {
     "data": {
      "image/png": "[encoded data removed]",
      "text/plain": [
       "<Figure size 864x504 with 1 Axes>"
      ]
     },
     "metadata": {
      "needs_background": "light"
     },
     "output_type": "display_data"
    }
   ],
   "source": [
    "plt.figure(figsize=(12, 7))\n",
    "sns.heatmap(test.isnull(),yticklabels=False,cbar=False,cmap='viridis') #cbar false to binary situation"
   ]
  },
  {
   "cell_type": "markdown",
   "id": "d6636467",
   "metadata": {
    "papermill": {
     "duration": 0.091437,
     "end_time": "2022-02-08T02:54:21.381418",
     "exception": false,
     "start_time": "2022-02-08T02:54:21.289981",
     "status": "completed"
    },
    "tags": []
   },
   "source": [
    "lets use the code we use before to replace the Age with the mean of Pclass and exclude the null Fare line"
   ]
  },
  {
   "cell_type": "code",
   "execution_count": 48,
   "id": "006a0fa4",
   "metadata": {
    "execution": {
     "iopub.execute_input": "2022-02-08T02:54:21.575188Z",
     "iopub.status.busy": "2022-02-08T02:54:21.574380Z",
     "iopub.status.idle": "2022-02-08T02:54:21.579200Z",
     "shell.execute_reply": "2022-02-08T02:54:21.579724Z",
     "shell.execute_reply.started": "2022-02-04T14:55:03.306489Z"
    },
    "papermill": {
     "duration": 0.107869,
     "end_time": "2022-02-08T02:54:21.579921",
     "exception": false,
     "start_time": "2022-02-08T02:54:21.472052",
     "status": "completed"
    },
    "tags": []
   },
   "outputs": [],
   "source": [
    "test[\"Age\"] = test[[\"Age\",\"Pclass\"]].apply(put_age,axis=1) "
   ]
  },
  {
   "cell_type": "code",
   "execution_count": 49,
   "id": "9cbbf84d",
   "metadata": {
    "execution": {
     "iopub.execute_input": "2022-02-08T02:54:21.766569Z",
     "iopub.status.busy": "2022-02-08T02:54:21.765885Z",
     "iopub.status.idle": "2022-02-08T02:54:21.999073Z",
     "shell.execute_reply": "2022-02-08T02:54:21.998362Z",
     "shell.execute_reply.started": "2022-02-04T14:55:03.317572Z"
    },
    "papermill": {
     "duration": 0.327632,
     "end_time": "2022-02-08T02:54:21.999232",
     "exception": false,
     "start_time": "2022-02-08T02:54:21.671600",
     "status": "completed"
    },
    "tags": []
   },
   "outputs": [
    {
     "data": {
      "text/plain": [
       "<AxesSubplot:>"
      ]
     },
     "execution_count": 49,
     "metadata": {},
     "output_type": "execute_result"
    },
    {
     "data": {
      "image/png": "[encoded data removed]",
      "text/plain": [
       "<Figure size 432x288 with 1 Axes>"
      ]
     },
     "metadata": {
      "needs_background": "light"
     },
     "output_type": "display_data"
    }
   ],
   "source": [
    "test[\"Age\"].hist()"
   ]
  },
  {
   "cell_type": "code",
   "execution_count": 50,
   "id": "b0b769fa",
   "metadata": {
    "execution": {
     "iopub.execute_input": "2022-02-08T02:54:22.192968Z",
     "iopub.status.busy": "2022-02-08T02:54:22.192247Z",
     "iopub.status.idle": "2022-02-08T02:54:22.382208Z",
     "shell.execute_reply": "2022-02-08T02:54:22.382794Z",
     "shell.execute_reply.started": "2022-02-04T14:55:03.472816Z"
    },
    "papermill": {
     "duration": 0.290375,
     "end_time": "2022-02-08T02:54:22.383000",
     "exception": false,
     "start_time": "2022-02-08T02:54:22.092625",
     "status": "completed"
    },
    "tags": []
   },
   "outputs": [
    {
     "data": {
      "text/plain": [
       "<AxesSubplot:>"
      ]
     },
     "execution_count": 50,
     "metadata": {},
     "output_type": "execute_result"
    },
    {
     "data": {
      "image/png": "[encoded data removed]",
      "text/plain": [
       "<Figure size 864x504 with 1 Axes>"
      ]
     },
     "metadata": {
      "needs_background": "light"
     },
     "output_type": "display_data"
    }
   ],
   "source": [
    "plt.figure(figsize=(12, 7))\n",
    "sns.heatmap(test.isnull(),yticklabels=False,cbar=False,cmap='viridis') #cbar false to binary situation\n"
   ]
  },
  {
   "cell_type": "code",
   "execution_count": 51,
   "id": "05fe39db",
   "metadata": {
    "execution": {
     "iopub.execute_input": "2022-02-08T02:54:22.574900Z",
     "iopub.status.busy": "2022-02-08T02:54:22.574232Z",
     "iopub.status.idle": "2022-02-08T02:54:22.579210Z",
     "shell.execute_reply": "2022-02-08T02:54:22.579705Z",
     "shell.execute_reply.started": "2022-02-04T14:55:03.632789Z"
    },
    "papermill": {
     "duration": 0.102385,
     "end_time": "2022-02-08T02:54:22.579897",
     "exception": false,
     "start_time": "2022-02-08T02:54:22.477512",
     "status": "completed"
    },
    "tags": []
   },
   "outputs": [],
   "source": [
    "test.drop([\"Cabin\"],axis=1,inplace=True)"
   ]
  },
  {
   "cell_type": "markdown",
   "id": "214164bc",
   "metadata": {
    "papermill": {
     "duration": 0.094004,
     "end_time": "2022-02-08T02:54:22.768329",
     "exception": false,
     "start_time": "2022-02-08T02:54:22.674325",
     "status": "completed"
    },
    "tags": []
   },
   "source": [
    "we notice that the columns fare has only one Nan. To use this dataframe on titanic anwser we need all those lines to send the right awnser if we just del the line the answer will be wrong and very hard to fill"
   ]
  },
  {
   "cell_type": "markdown",
   "id": "a56c9fdc",
   "metadata": {
    "execution": {
     "iopub.execute_input": "2022-02-03T01:37:13.333472Z",
     "iopub.status.busy": "2022-02-03T01:37:13.332132Z",
     "iopub.status.idle": "2022-02-03T01:37:13.338494Z",
     "shell.execute_reply": "2022-02-03T01:37:13.337213Z",
     "shell.execute_reply.started": "2022-02-03T01:37:13.333355Z"
    },
    "papermill": {
     "duration": 0.093934,
     "end_time": "2022-02-08T02:54:22.956681",
     "exception": false,
     "start_time": "2022-02-08T02:54:22.862747",
     "status": "completed"
    },
    "tags": []
   },
   "source": [
    "# Fare mean to input missing Fare row"
   ]
  },
  {
   "cell_type": "code",
   "execution_count": 52,
   "id": "c9a3078b",
   "metadata": {
    "execution": {
     "iopub.execute_input": "2022-02-08T02:54:23.177933Z",
     "iopub.status.busy": "2022-02-08T02:54:23.177276Z",
     "iopub.status.idle": "2022-02-08T02:54:23.186849Z",
     "shell.execute_reply": "2022-02-08T02:54:23.187385Z",
     "shell.execute_reply.started": "2022-02-04T14:55:03.639068Z"
    },
    "papermill": {
     "duration": 0.107057,
     "end_time": "2022-02-08T02:54:23.187592",
     "exception": false,
     "start_time": "2022-02-08T02:54:23.080535",
     "status": "completed"
    },
    "tags": []
   },
   "outputs": [],
   "source": [
    "#serach the Nan line and input the mean of Fare\n",
    "test[test[\"Fare\"].isna()] = test[test[\"Fare\"].isna()].fillna(test[\"Fare\"].mean())"
   ]
  },
  {
   "cell_type": "code",
   "execution_count": 53,
   "id": "8398668c",
   "metadata": {
    "execution": {
     "iopub.execute_input": "2022-02-08T02:54:23.380876Z",
     "iopub.status.busy": "2022-02-08T02:54:23.380239Z",
     "iopub.status.idle": "2022-02-08T02:54:23.385790Z",
     "shell.execute_reply": "2022-02-08T02:54:23.386394Z",
     "shell.execute_reply.started": "2022-02-04T14:55:03.660138Z"
    },
    "papermill": {
     "duration": 0.105367,
     "end_time": "2022-02-08T02:54:23.386597",
     "exception": false,
     "start_time": "2022-02-08T02:54:23.281230",
     "status": "completed"
    },
    "tags": []
   },
   "outputs": [
    {
     "data": {
      "text/plain": [
       "35.6271884892086"
      ]
     },
     "execution_count": 53,
     "metadata": {},
     "output_type": "execute_result"
    }
   ],
   "source": [
    "test[\"Fare\"].mean()"
   ]
  },
  {
   "cell_type": "code",
   "execution_count": 54,
   "id": "8c595fb7",
   "metadata": {
    "execution": {
     "iopub.execute_input": "2022-02-08T02:54:23.577369Z",
     "iopub.status.busy": "2022-02-08T02:54:23.576662Z",
     "iopub.status.idle": "2022-02-08T02:54:23.762251Z",
     "shell.execute_reply": "2022-02-08T02:54:23.761540Z",
     "shell.execute_reply.started": "2022-02-04T14:55:03.675572Z"
    },
    "papermill": {
     "duration": 0.282203,
     "end_time": "2022-02-08T02:54:23.762418",
     "exception": false,
     "start_time": "2022-02-08T02:54:23.480215",
     "status": "completed"
    },
    "tags": []
   },
   "outputs": [
    {
     "data": {
      "text/plain": [
       "<AxesSubplot:>"
      ]
     },
     "execution_count": 54,
     "metadata": {},
     "output_type": "execute_result"
    },
    {
     "data": {
      "image/png": "[encoded data removed]",
      "text/plain": [
       "<Figure size 864x504 with 1 Axes>"
      ]
     },
     "metadata": {
      "needs_background": "light"
     },
     "output_type": "display_data"
    }
   ],
   "source": [
    "plt.figure(figsize=(12, 7))\n",
    "sns.heatmap(test.isnull(),yticklabels=False,cbar=False,cmap='viridis') #cbar false to binary situation\n"
   ]
  },
  {
   "cell_type": "code",
   "execution_count": 55,
   "id": "733bad28",
   "metadata": {
    "execution": {
     "iopub.execute_input": "2022-02-08T02:54:23.985784Z",
     "iopub.status.busy": "2022-02-08T02:54:23.984788Z",
     "iopub.status.idle": "2022-02-08T02:54:23.987938Z",
     "shell.execute_reply": "2022-02-08T02:54:23.987418Z",
     "shell.execute_reply.started": "2022-02-04T14:55:03.819542Z"
    },
    "papermill": {
     "duration": 0.114264,
     "end_time": "2022-02-08T02:54:23.988127",
     "exception": false,
     "start_time": "2022-02-08T02:54:23.873863",
     "status": "completed"
    },
    "tags": []
   },
   "outputs": [],
   "source": [
    "Sex= pd.get_dummies(test[\"Sex\"],drop_first=1)"
   ]
  },
  {
   "cell_type": "code",
   "execution_count": 56,
   "id": "a180eabd",
   "metadata": {
    "execution": {
     "iopub.execute_input": "2022-02-08T02:54:24.187724Z",
     "iopub.status.busy": "2022-02-08T02:54:24.186684Z",
     "iopub.status.idle": "2022-02-08T02:54:24.192433Z",
     "shell.execute_reply": "2022-02-08T02:54:24.192971Z",
     "shell.execute_reply.started": "2022-02-04T14:55:03.825619Z"
    },
    "papermill": {
     "duration": 0.106419,
     "end_time": "2022-02-08T02:54:24.193190",
     "exception": false,
     "start_time": "2022-02-08T02:54:24.086771",
     "status": "completed"
    },
    "tags": []
   },
   "outputs": [],
   "source": [
    "Embark= pd.get_dummies(test[\"Embarked\"],drop_first=1)\n"
   ]
  },
  {
   "cell_type": "code",
   "execution_count": 57,
   "id": "2e6d6718",
   "metadata": {
    "execution": {
     "iopub.execute_input": "2022-02-08T02:54:24.396184Z",
     "iopub.status.busy": "2022-02-08T02:54:24.392211Z",
     "iopub.status.idle": "2022-02-08T02:54:24.398613Z",
     "shell.execute_reply": "2022-02-08T02:54:24.399116Z",
     "shell.execute_reply.started": "2022-02-04T14:55:03.843143Z"
    },
    "papermill": {
     "duration": 0.110112,
     "end_time": "2022-02-08T02:54:24.399340",
     "exception": false,
     "start_time": "2022-02-08T02:54:24.289228",
     "status": "completed"
    },
    "tags": []
   },
   "outputs": [],
   "source": [
    "test.drop([\"PassengerId\",\"Sex\",\"Name\",\"Ticket\",\"Embarked\"],axis=1,inplace=True)"
   ]
  },
  {
   "cell_type": "code",
   "execution_count": 58,
   "id": "00132215",
   "metadata": {
    "execution": {
     "iopub.execute_input": "2022-02-08T02:54:24.603275Z",
     "iopub.status.busy": "2022-02-08T02:54:24.602552Z",
     "iopub.status.idle": "2022-02-08T02:54:24.616458Z",
     "shell.execute_reply": "2022-02-08T02:54:24.615756Z",
     "shell.execute_reply.started": "2022-02-04T14:55:03.857218Z"
    },
    "papermill": {
     "duration": 0.118278,
     "end_time": "2022-02-08T02:54:24.616626",
     "exception": false,
     "start_time": "2022-02-08T02:54:24.498348",
     "status": "completed"
    },
    "tags": []
   },
   "outputs": [
    {
     "data": {
      "text/html": [
       "<div>\n",
       "<style scoped>\n",
       "    .dataframe tbody tr th:only-of-type {\n",
       "        vertical-align: middle;\n",
       "    }\n",
       "\n",
       "    .dataframe tbody tr th {\n",
       "        vertical-align: top;\n",
       "    }\n",
       "\n",
       "    .dataframe thead th {\n",
       "        text-align: right;\n",
       "    }\n",
       "</style>\n",
       "<table border=\"1\" class=\"dataframe\">\n",
       "  <thead>\n",
       "    <tr style=\"text-align: right;\">\n",
       "      <th></th>\n",
       "      <th>Pclass</th>\n",
       "      <th>Age</th>\n",
       "      <th>SibSp</th>\n",
       "      <th>Parch</th>\n",
       "      <th>Fare</th>\n",
       "      <th>male</th>\n",
       "      <th>Q</th>\n",
       "      <th>S</th>\n",
       "    </tr>\n",
       "  </thead>\n",
       "  <tbody>\n",
       "    <tr>\n",
       "      <th>0</th>\n",
       "      <td>3</td>\n",
       "      <td>34.5</td>\n",
       "      <td>0</td>\n",
       "      <td>0</td>\n",
       "      <td>7.8292</td>\n",
       "      <td>1</td>\n",
       "      <td>1</td>\n",
       "      <td>0</td>\n",
       "    </tr>\n",
       "    <tr>\n",
       "      <th>1</th>\n",
       "      <td>3</td>\n",
       "      <td>47.0</td>\n",
       "      <td>1</td>\n",
       "      <td>0</td>\n",
       "      <td>7.0000</td>\n",
       "      <td>0</td>\n",
       "      <td>0</td>\n",
       "      <td>1</td>\n",
       "    </tr>\n",
       "    <tr>\n",
       "      <th>2</th>\n",
       "      <td>2</td>\n",
       "      <td>62.0</td>\n",
       "      <td>0</td>\n",
       "      <td>0</td>\n",
       "      <td>9.6875</td>\n",
       "      <td>1</td>\n",
       "      <td>1</td>\n",
       "      <td>0</td>\n",
       "    </tr>\n",
       "    <tr>\n",
       "      <th>3</th>\n",
       "      <td>3</td>\n",
       "      <td>27.0</td>\n",
       "      <td>0</td>\n",
       "      <td>0</td>\n",
       "      <td>8.6625</td>\n",
       "      <td>1</td>\n",
       "      <td>0</td>\n",
       "      <td>1</td>\n",
       "    </tr>\n",
       "    <tr>\n",
       "      <th>4</th>\n",
       "      <td>3</td>\n",
       "      <td>22.0</td>\n",
       "      <td>1</td>\n",
       "      <td>1</td>\n",
       "      <td>12.2875</td>\n",
       "      <td>0</td>\n",
       "      <td>0</td>\n",
       "      <td>1</td>\n",
       "    </tr>\n",
       "    <tr>\n",
       "      <th>...</th>\n",
       "      <td>...</td>\n",
       "      <td>...</td>\n",
       "      <td>...</td>\n",
       "      <td>...</td>\n",
       "      <td>...</td>\n",
       "      <td>...</td>\n",
       "      <td>...</td>\n",
       "      <td>...</td>\n",
       "    </tr>\n",
       "    <tr>\n",
       "      <th>413</th>\n",
       "      <td>3</td>\n",
       "      <td>25.0</td>\n",
       "      <td>0</td>\n",
       "      <td>0</td>\n",
       "      <td>8.0500</td>\n",
       "      <td>1</td>\n",
       "      <td>0</td>\n",
       "      <td>1</td>\n",
       "    </tr>\n",
       "    <tr>\n",
       "      <th>414</th>\n",
       "      <td>1</td>\n",
       "      <td>39.0</td>\n",
       "      <td>0</td>\n",
       "      <td>0</td>\n",
       "      <td>108.9000</td>\n",
       "      <td>0</td>\n",
       "      <td>0</td>\n",
       "      <td>0</td>\n",
       "    </tr>\n",
       "    <tr>\n",
       "      <th>415</th>\n",
       "      <td>3</td>\n",
       "      <td>38.5</td>\n",
       "      <td>0</td>\n",
       "      <td>0</td>\n",
       "      <td>7.2500</td>\n",
       "      <td>1</td>\n",
       "      <td>0</td>\n",
       "      <td>1</td>\n",
       "    </tr>\n",
       "    <tr>\n",
       "      <th>416</th>\n",
       "      <td>3</td>\n",
       "      <td>25.0</td>\n",
       "      <td>0</td>\n",
       "      <td>0</td>\n",
       "      <td>8.0500</td>\n",
       "      <td>1</td>\n",
       "      <td>0</td>\n",
       "      <td>1</td>\n",
       "    </tr>\n",
       "    <tr>\n",
       "      <th>417</th>\n",
       "      <td>3</td>\n",
       "      <td>25.0</td>\n",
       "      <td>1</td>\n",
       "      <td>1</td>\n",
       "      <td>22.3583</td>\n",
       "      <td>1</td>\n",
       "      <td>0</td>\n",
       "      <td>0</td>\n",
       "    </tr>\n",
       "  </tbody>\n",
       "</table>\n",
       "<p>418 rows × 8 columns</p>\n",
       "</div>"
      ],
      "text/plain": [
       "     Pclass   Age  SibSp  Parch      Fare  male  Q  S\n",
       "0         3  34.5      0      0    7.8292     1  1  0\n",
       "1         3  47.0      1      0    7.0000     0  0  1\n",
       "2         2  62.0      0      0    9.6875     1  1  0\n",
       "3         3  27.0      0      0    8.6625     1  0  1\n",
       "4         3  22.0      1      1   12.2875     0  0  1\n",
       "..      ...   ...    ...    ...       ...   ... .. ..\n",
       "413       3  25.0      0      0    8.0500     1  0  1\n",
       "414       1  39.0      0      0  108.9000     0  0  0\n",
       "415       3  38.5      0      0    7.2500     1  0  1\n",
       "416       3  25.0      0      0    8.0500     1  0  1\n",
       "417       3  25.0      1      1   22.3583     1  0  0\n",
       "\n",
       "[418 rows x 8 columns]"
      ]
     },
     "execution_count": 58,
     "metadata": {},
     "output_type": "execute_result"
    }
   ],
   "source": [
    "\n",
    "test=pd.concat([test,Sex,Embark],axis=1)\n",
    "test\n"
   ]
  },
  {
   "cell_type": "code",
   "execution_count": 59,
   "id": "b0f5a0e6",
   "metadata": {
    "execution": {
     "iopub.execute_input": "2022-02-08T02:54:24.813613Z",
     "iopub.status.busy": "2022-02-08T02:54:24.812787Z",
     "iopub.status.idle": "2022-02-08T02:54:24.816713Z",
     "shell.execute_reply": "2022-02-08T02:54:24.817243Z",
     "shell.execute_reply.started": "2022-02-04T14:55:03.882746Z"
    },
    "papermill": {
     "duration": 0.104779,
     "end_time": "2022-02-08T02:54:24.817442",
     "exception": false,
     "start_time": "2022-02-08T02:54:24.712663",
     "status": "completed"
    },
    "tags": []
   },
   "outputs": [],
   "source": [
    "test.rename(columns ={\"male\":\"Sex\"},inplace=True)"
   ]
  },
  {
   "cell_type": "code",
   "execution_count": 60,
   "id": "1b41e89a",
   "metadata": {
    "execution": {
     "iopub.execute_input": "2022-02-08T02:54:25.017642Z",
     "iopub.status.busy": "2022-02-08T02:54:25.016801Z",
     "iopub.status.idle": "2022-02-08T02:54:25.020990Z",
     "shell.execute_reply": "2022-02-08T02:54:25.021566Z",
     "shell.execute_reply.started": "2022-02-04T14:55:03.888335Z"
    },
    "papermill": {
     "duration": 0.108333,
     "end_time": "2022-02-08T02:54:25.021759",
     "exception": false,
     "start_time": "2022-02-08T02:54:24.913426",
     "status": "completed"
    },
    "tags": []
   },
   "outputs": [],
   "source": [
    "X_train = train.drop(\"Survived\",axis=1)\n",
    "y_train = train[\"Survived\"]"
   ]
  },
  {
   "cell_type": "code",
   "execution_count": null,
   "id": "d1c78ce5",
   "metadata": {
    "papermill": {
     "duration": 0.095816,
     "end_time": "2022-02-08T02:54:25.217893",
     "exception": false,
     "start_time": "2022-02-08T02:54:25.122077",
     "status": "completed"
    },
    "tags": []
   },
   "outputs": [],
   "source": []
  },
  {
   "cell_type": "code",
   "execution_count": 61,
   "id": "a13f9f02",
   "metadata": {
    "execution": {
     "iopub.execute_input": "2022-02-08T02:54:25.420007Z",
     "iopub.status.busy": "2022-02-08T02:54:25.419266Z",
     "iopub.status.idle": "2022-02-08T02:54:25.428095Z",
     "shell.execute_reply": "2022-02-08T02:54:25.427389Z",
     "shell.execute_reply.started": "2022-02-04T14:55:03.907128Z"
    },
    "papermill": {
     "duration": 0.114763,
     "end_time": "2022-02-08T02:54:25.428257",
     "exception": false,
     "start_time": "2022-02-08T02:54:25.313494",
     "status": "completed"
    },
    "tags": []
   },
   "outputs": [
    {
     "data": {
      "text/plain": [
       "LogisticRegression(solver='liblinear')"
      ]
     },
     "execution_count": 61,
     "metadata": {},
     "output_type": "execute_result"
    }
   ],
   "source": [
    "logmodel.fit(X_train,y_train)"
   ]
  },
  {
   "cell_type": "code",
   "execution_count": 62,
   "id": "728700e3",
   "metadata": {
    "execution": {
     "iopub.execute_input": "2022-02-08T02:54:25.625582Z",
     "iopub.status.busy": "2022-02-08T02:54:25.624555Z",
     "iopub.status.idle": "2022-02-08T02:54:25.631953Z",
     "shell.execute_reply": "2022-02-08T02:54:25.632660Z",
     "shell.execute_reply.started": "2022-02-04T14:55:03.925045Z"
    },
    "papermill": {
     "duration": 0.108231,
     "end_time": "2022-02-08T02:54:25.632873",
     "exception": false,
     "start_time": "2022-02-08T02:54:25.524642",
     "status": "completed"
    },
    "tags": []
   },
   "outputs": [],
   "source": [
    "prediction = logmodel.predict(test)\n"
   ]
  },
  {
   "cell_type": "code",
   "execution_count": 63,
   "id": "f49359df",
   "metadata": {
    "execution": {
     "iopub.execute_input": "2022-02-08T02:54:25.834157Z",
     "iopub.status.busy": "2022-02-08T02:54:25.833136Z",
     "iopub.status.idle": "2022-02-08T02:54:25.844348Z",
     "shell.execute_reply": "2022-02-08T02:54:25.844900Z",
     "shell.execute_reply.started": "2022-02-04T14:55:03.932219Z"
    },
    "papermill": {
     "duration": 0.114162,
     "end_time": "2022-02-08T02:54:25.845142",
     "exception": false,
     "start_time": "2022-02-08T02:54:25.730980",
     "status": "completed"
    },
    "tags": []
   },
   "outputs": [],
   "source": [
    "testID = pd.read_csv('/kaggle/input/titanic/test.csv')"
   ]
  },
  {
   "cell_type": "code",
   "execution_count": null,
   "id": "eb6415fc",
   "metadata": {
    "papermill": {
     "duration": 0.098052,
     "end_time": "2022-02-08T02:54:26.045369",
     "exception": false,
     "start_time": "2022-02-08T02:54:25.947317",
     "status": "completed"
    },
    "tags": []
   },
   "outputs": [],
   "source": []
  },
  {
   "cell_type": "code",
   "execution_count": 64,
   "id": "3de6da13",
   "metadata": {
    "execution": {
     "iopub.execute_input": "2022-02-08T02:54:26.249828Z",
     "iopub.status.busy": "2022-02-08T02:54:26.249128Z",
     "iopub.status.idle": "2022-02-08T02:54:26.253518Z",
     "shell.execute_reply": "2022-02-08T02:54:26.254052Z",
     "shell.execute_reply.started": "2022-02-04T14:55:03.949135Z"
    },
    "papermill": {
     "duration": 0.109209,
     "end_time": "2022-02-08T02:54:26.254273",
     "exception": false,
     "start_time": "2022-02-08T02:54:26.145064",
     "status": "completed"
    },
    "tags": []
   },
   "outputs": [],
   "source": [
    "#good way to output the result exactly how kaggle wants\n",
    "\n",
    "sub = pd.Series(prediction, index=testID[\"PassengerId\"],name = \"Survived\")"
   ]
  },
  {
   "cell_type": "code",
   "execution_count": 65,
   "id": "e8a0df40",
   "metadata": {
    "execution": {
     "iopub.execute_input": "2022-02-08T02:54:26.454867Z",
     "iopub.status.busy": "2022-02-08T02:54:26.453871Z",
     "iopub.status.idle": "2022-02-08T02:54:26.462168Z",
     "shell.execute_reply": "2022-02-08T02:54:26.462714Z",
     "shell.execute_reply.started": "2022-02-04T14:55:03.961475Z"
    },
    "papermill": {
     "duration": 0.110596,
     "end_time": "2022-02-08T02:54:26.462928",
     "exception": false,
     "start_time": "2022-02-08T02:54:26.352332",
     "status": "completed"
    },
    "tags": []
   },
   "outputs": [],
   "source": [
    "sub.to_csv(\"model_LR.csv\",header=True)"
   ]
  }
 ],
 "metadata": {
  "kernelspec": {
   "display_name": "Python 3",
   "language": "python",
   "name": "python3"
  },
  "language_info": {
   "codemirror_mode": {
    "name": "ipython",
    "version": 3
   },
   "file_extension": ".py",
   "mimetype": "text/x-python",
   "name": "python",
   "nbconvert_exporter": "python",
   "pygments_lexer": "ipython3",
   "version": "3.7.12"
  },
  "papermill": {
   "default_parameters": {},
   "duration": 35.884114,
   "end_time": "2022-02-08T02:54:27.775917",
   "environment_variables": {},
   "exception": null,
   "input_path": "__notebook__.ipynb",
   "output_path": "__notebook__.ipynb",
   "parameters": {},
   "start_time": "2022-02-08T02:53:51.891803",
   "version": "2.3.3"
  }
 },
 "nbformat": 4,
 "nbformat_minor": 5
}
