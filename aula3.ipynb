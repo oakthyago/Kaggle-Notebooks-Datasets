{
 "cells": [
  {
   "cell_type": "code",
   "execution_count": 1,
   "id": "9dfd3b2c",
   "metadata": {},
   "outputs": [],
   "source": [
    "#primeiro modelo de machine learning"
   ]
  },
  {
   "cell_type": "code",
   "execution_count": 3,
   "id": "fce523bd",
   "metadata": {},
   "outputs": [],
   "source": [
    "import pandas as pd\n",
    "import numpy as np\n"
   ]
  },
  {
   "cell_type": "code",
   "execution_count": 5,
   "id": "1caf49e4",
   "metadata": {},
   "outputs": [],
   "source": [
    "#ler arquivos \n",
    "train = pd.read_csv(\"train.csv\")\n",
    "test = pd.read_csv(\"test.csv\")"
   ]
  },
  {
   "cell_type": "code",
   "execution_count": 7,
   "id": "6a626361",
   "metadata": {},
   "outputs": [
    {
     "data": {
      "text/html": [
       "<div>\n",
       "<style scoped>\n",
       "    .dataframe tbody tr th:only-of-type {\n",
       "        vertical-align: middle;\n",
       "    }\n",
       "\n",
       "    .dataframe tbody tr th {\n",
       "        vertical-align: top;\n",
       "    }\n",
       "\n",
       "    .dataframe thead th {\n",
       "        text-align: right;\n",
       "    }\n",
       "</style>\n",
       "<table border=\"1\" class=\"dataframe\">\n",
       "  <thead>\n",
       "    <tr style=\"text-align: right;\">\n",
       "      <th></th>\n",
       "      <th>PassengerId</th>\n",
       "      <th>Survived</th>\n",
       "      <th>Pclass</th>\n",
       "      <th>Name</th>\n",
       "      <th>Sex</th>\n",
       "      <th>Age</th>\n",
       "      <th>SibSp</th>\n",
       "      <th>Parch</th>\n",
       "      <th>Ticket</th>\n",
       "      <th>Fare</th>\n",
       "      <th>Cabin</th>\n",
       "      <th>Embarked</th>\n",
       "    </tr>\n",
       "  </thead>\n",
       "  <tbody>\n",
       "    <tr>\n",
       "      <th>0</th>\n",
       "      <td>1</td>\n",
       "      <td>0</td>\n",
       "      <td>3</td>\n",
       "      <td>Braund, Mr. Owen Harris</td>\n",
       "      <td>male</td>\n",
       "      <td>22.0</td>\n",
       "      <td>1</td>\n",
       "      <td>0</td>\n",
       "      <td>A/5 21171</td>\n",
       "      <td>7.2500</td>\n",
       "      <td>NaN</td>\n",
       "      <td>S</td>\n",
       "    </tr>\n",
       "    <tr>\n",
       "      <th>1</th>\n",
       "      <td>2</td>\n",
       "      <td>1</td>\n",
       "      <td>1</td>\n",
       "      <td>Cumings, Mrs. John Bradley (Florence Briggs Th...</td>\n",
       "      <td>female</td>\n",
       "      <td>38.0</td>\n",
       "      <td>1</td>\n",
       "      <td>0</td>\n",
       "      <td>PC 17599</td>\n",
       "      <td>71.2833</td>\n",
       "      <td>C85</td>\n",
       "      <td>C</td>\n",
       "    </tr>\n",
       "    <tr>\n",
       "      <th>2</th>\n",
       "      <td>3</td>\n",
       "      <td>1</td>\n",
       "      <td>3</td>\n",
       "      <td>Heikkinen, Miss. Laina</td>\n",
       "      <td>female</td>\n",
       "      <td>26.0</td>\n",
       "      <td>0</td>\n",
       "      <td>0</td>\n",
       "      <td>STON/O2. 3101282</td>\n",
       "      <td>7.9250</td>\n",
       "      <td>NaN</td>\n",
       "      <td>S</td>\n",
       "    </tr>\n",
       "    <tr>\n",
       "      <th>3</th>\n",
       "      <td>4</td>\n",
       "      <td>1</td>\n",
       "      <td>1</td>\n",
       "      <td>Futrelle, Mrs. Jacques Heath (Lily May Peel)</td>\n",
       "      <td>female</td>\n",
       "      <td>35.0</td>\n",
       "      <td>1</td>\n",
       "      <td>0</td>\n",
       "      <td>113803</td>\n",
       "      <td>53.1000</td>\n",
       "      <td>C123</td>\n",
       "      <td>S</td>\n",
       "    </tr>\n",
       "    <tr>\n",
       "      <th>4</th>\n",
       "      <td>5</td>\n",
       "      <td>0</td>\n",
       "      <td>3</td>\n",
       "      <td>Allen, Mr. William Henry</td>\n",
       "      <td>male</td>\n",
       "      <td>35.0</td>\n",
       "      <td>0</td>\n",
       "      <td>0</td>\n",
       "      <td>373450</td>\n",
       "      <td>8.0500</td>\n",
       "      <td>NaN</td>\n",
       "      <td>S</td>\n",
       "    </tr>\n",
       "  </tbody>\n",
       "</table>\n",
       "</div>"
      ],
      "text/plain": [
       "   PassengerId  Survived  Pclass  \\\n",
       "0            1         0       3   \n",
       "1            2         1       1   \n",
       "2            3         1       3   \n",
       "3            4         1       1   \n",
       "4            5         0       3   \n",
       "\n",
       "                                                Name     Sex   Age  SibSp  \\\n",
       "0                            Braund, Mr. Owen Harris    male  22.0      1   \n",
       "1  Cumings, Mrs. John Bradley (Florence Briggs Th...  female  38.0      1   \n",
       "2                             Heikkinen, Miss. Laina  female  26.0      0   \n",
       "3       Futrelle, Mrs. Jacques Heath (Lily May Peel)  female  35.0      1   \n",
       "4                           Allen, Mr. William Henry    male  35.0      0   \n",
       "\n",
       "   Parch            Ticket     Fare Cabin Embarked  \n",
       "0      0         A/5 21171   7.2500   NaN        S  \n",
       "1      0          PC 17599  71.2833   C85        C  \n",
       "2      0  STON/O2. 3101282   7.9250   NaN        S  \n",
       "3      0            113803  53.1000  C123        S  \n",
       "4      0            373450   8.0500   NaN        S  "
      ]
     },
     "execution_count": 7,
     "metadata": {},
     "output_type": "execute_result"
    }
   ],
   "source": [
    "train.head()"
   ]
  },
  {
   "cell_type": "code",
   "execution_count": 79,
   "id": "f10585ec",
   "metadata": {},
   "outputs": [],
   "source": [
    "from sklearn.ensemble import RandomForestClassifier\n",
    "from sklearn.model_selection import train_test_split"
   ]
  },
  {
   "cell_type": "code",
   "execution_count": 84,
   "id": "fd37ccc6",
   "metadata": {},
   "outputs": [
    {
     "data": {
      "text/plain": [
       "[array([9, 1, 6, 7, 3, 0, 5]), array([2, 8, 4])]"
      ]
     },
     "execution_count": 84,
     "metadata": {},
     "output_type": "execute_result"
    }
   ],
   "source": [
    "np.random.seed(0)\n",
    "X_falso = np.arange(10)\n",
    "train_test_split(X_falso)"
   ]
  },
  {
   "cell_type": "code",
   "execution_count": 93,
   "id": "ddc0af80",
   "metadata": {},
   "outputs": [
    {
     "data": {
      "text/plain": [
       "[array([6, 7, 3, 0, 5]), array([2, 8, 4, 9, 1])]"
      ]
     },
     "execution_count": 93,
     "metadata": {},
     "output_type": "execute_result"
    }
   ],
   "source": [
    "np.random.seed(0)\n",
    "train_test_split(X_falso,test_size=0.5)\n"
   ]
  },
  {
   "cell_type": "code",
   "execution_count": 95,
   "id": "ffe35132",
   "metadata": {},
   "outputs": [],
   "source": []
  },
  {
   "cell_type": "code",
   "execution_count": 21,
   "id": "36d86be7",
   "metadata": {},
   "outputs": [],
   "source": [
    "modelo = RandomForestClassifier(n_estimators=100,n_jobs=-1,random_state=0)"
   ]
  },
  {
   "cell_type": "code",
   "execution_count": 26,
   "id": "cb86ee41",
   "metadata": {},
   "outputs": [],
   "source": [
    "variaveis = ['Sex_binario','Age']"
   ]
  },
  {
   "cell_type": "code",
   "execution_count": 28,
   "id": "e9029e7f",
   "metadata": {},
   "outputs": [],
   "source": [
    "def transforma_sexo (valor):\n",
    "    if valor == \"female\":\n",
    "        return 1\n",
    "    else :\n",
    "        return 0"
   ]
  },
  {
   "cell_type": "code",
   "execution_count": 32,
   "id": "3ff21dcd",
   "metadata": {},
   "outputs": [],
   "source": [
    "train['Sex_binario']=train[\"Sex\"].map(transforma_sexo)"
   ]
  },
  {
   "cell_type": "code",
   "execution_count": 49,
   "id": "662b517c",
   "metadata": {},
   "outputs": [
    {
     "data": {
      "text/plain": [
       "RandomForestClassifier(n_jobs=-1, random_state=0)"
      ]
     },
     "execution_count": 49,
     "metadata": {},
     "output_type": "execute_result"
    }
   ],
   "source": [
    "X=train[variaveis]\n",
    "X=X.fillna(-1)\n",
    "y=train[\"Survived\"]\n",
    "modelo.fit(X,y)\n",
    "#modelo.fit faz uma relação entre dados x e resultados y"
   ]
  },
  {
   "cell_type": "code",
   "execution_count": 47,
   "id": "a6b3502d",
   "metadata": {},
   "outputs": [],
   "source": [
    "test['Sex_binario']=test[\"Sex\"].map(transforma_sexo)\n",
    "X_prev = test[variaveis]\n",
    "X_prev = X_prev.fillna(-1)\n"
   ]
  },
  {
   "cell_type": "code",
   "execution_count": 60,
   "id": "dca9e7be",
   "metadata": {},
   "outputs": [],
   "source": [
    "p = modelo.predict(X_prev)\n",
    "# modelo predict vai prever o resultado do teste com base no modelo fit anterior"
   ]
  },
  {
   "cell_type": "code",
   "execution_count": 64,
   "id": "fb70dab9",
   "metadata": {},
   "outputs": [],
   "source": [
    "sub=pd.Series(p,index=test[\"PassengerId\"],name=\"Survived\")"
   ]
  },
  {
   "cell_type": "code",
   "execution_count": 72,
   "id": "8c15cb7f",
   "metadata": {},
   "outputs": [],
   "source": [
    "sub.to_csv(\"primeiro_modelo.csv\",header=True)"
   ]
  },
  {
   "cell_type": "code",
   "execution_count": 96,
   "id": "06379781",
   "metadata": {},
   "outputs": [
    {
     "name": "stderr",
     "output_type": "stream",
     "text": [
      "'head' nÆo ‚ reconhecido como um comando interno\n",
      "ou externo, um programa oper vel ou um arquivo em lotes.\n"
     ]
    }
   ],
   "source": [
    "!head -n10 primeiro_modelo.csv"
   ]
  },
  {
   "cell_type": "code",
   "execution_count": null,
   "id": "f53f5d7a",
   "metadata": {},
   "outputs": [],
   "source": [
    "np.random.seed(0)\n",
    "X_treino, X_valid, y_treino, y_valid = train_test_split(X,y,test_size=0.5)\n",
    "modelo = RandomForestClassifier(n_estimators=100,n_jobs=-1,random_state=0)"
   ]
  },
  {
   "cell_type": "code",
   "execution_count": 99,
   "id": "02016ae1",
   "metadata": {},
   "outputs": [
    {
     "data": {
      "text/plain": [
       "RandomForestClassifier(n_jobs=-1, random_state=0)"
      ]
     },
     "execution_count": 99,
     "metadata": {},
     "output_type": "execute_result"
    }
   ],
   "source": [
    "modelo.fit(X_treino,y_treino)"
   ]
  },
  {
   "cell_type": "code",
   "execution_count": 101,
   "id": "1d26383f",
   "metadata": {},
   "outputs": [],
   "source": [
    "p2 = modelo.predict(X_valid)"
   ]
  },
  {
   "cell_type": "code",
   "execution_count": 105,
   "id": "f402218d",
   "metadata": {},
   "outputs": [
    {
     "data": {
      "text/plain": [
       "0.7690582959641256"
      ]
     },
     "execution_count": 105,
     "metadata": {},
     "output_type": "execute_result"
    }
   ],
   "source": [
    "np.mean(y_valid == p2)"
   ]
  },
  {
   "cell_type": "code",
   "execution_count": 117,
   "id": "fd7b0431",
   "metadata": {},
   "outputs": [],
   "source": [
    "p2=(X_valid[\"Sex_binario\"] == 1).astype(np.int64)"
   ]
  },
  {
   "cell_type": "code",
   "execution_count": 119,
   "id": "0c70a894",
   "metadata": {},
   "outputs": [
    {
     "data": {
      "text/plain": [
       "0.7825112107623319"
      ]
     },
     "execution_count": 119,
     "metadata": {},
     "output_type": "execute_result"
    }
   ],
   "source": [
    "np.mean(y_valid == p2)"
   ]
  }
 ],
 "metadata": {
  "kernelspec": {
   "display_name": "Python 3",
   "language": "python",
   "name": "python3"
  },
  "language_info": {
   "codemirror_mode": {
    "name": "ipython",
    "version": 3
   },
   "file_extension": ".py",
   "mimetype": "text/x-python",
   "name": "python",
   "nbconvert_exporter": "python",
   "pygments_lexer": "ipython3",
   "version": "3.8.8"
  }
 },
 "nbformat": 4,
 "nbformat_minor": 5
}
